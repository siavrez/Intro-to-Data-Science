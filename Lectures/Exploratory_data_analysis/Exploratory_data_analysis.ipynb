{
 "cells": [
  {
   "cell_type": "markdown",
   "metadata": {},
   "source": [
    "# Exploratory Data Analysis\n",
    "\n",
    "The first step to any data science related work is to get acquainted with the data. Lets introduce the pandas package"
   ]
  },
  {
   "cell_type": "code",
   "execution_count": 1,
   "metadata": {},
   "outputs": [
    {
     "data": {
      "text/plain": [
       "[[1, 2], [2, 4], [5, 7]]"
      ]
     },
     "execution_count": 1,
     "metadata": {},
     "output_type": "execute_result"
    }
   ],
   "source": [
    "import pandas as pd\n",
    "\n",
    "some_matrix = [[1, 2], [2, 4], [5, 7]]\n",
    "some_matrix\n"
   ]
  },
  {
   "cell_type": "code",
   "execution_count": 2,
   "metadata": {},
   "outputs": [
    {
     "data": {
      "text/html": [
       "<div>\n",
       "<style scoped>\n",
       "    .dataframe tbody tr th:only-of-type {\n",
       "        vertical-align: middle;\n",
       "    }\n",
       "\n",
       "    .dataframe tbody tr th {\n",
       "        vertical-align: top;\n",
       "    }\n",
       "\n",
       "    .dataframe thead th {\n",
       "        text-align: right;\n",
       "    }\n",
       "</style>\n",
       "<table border=\"1\" class=\"dataframe\">\n",
       "  <thead>\n",
       "    <tr style=\"text-align: right;\">\n",
       "      <th></th>\n",
       "      <th>col1</th>\n",
       "      <th>col2</th>\n",
       "    </tr>\n",
       "  </thead>\n",
       "  <tbody>\n",
       "    <tr>\n",
       "      <th>A</th>\n",
       "      <td>1</td>\n",
       "      <td>2</td>\n",
       "    </tr>\n",
       "    <tr>\n",
       "      <th>B</th>\n",
       "      <td>2</td>\n",
       "      <td>4</td>\n",
       "    </tr>\n",
       "    <tr>\n",
       "      <th>C</th>\n",
       "      <td>5</td>\n",
       "      <td>7</td>\n",
       "    </tr>\n",
       "  </tbody>\n",
       "</table>\n",
       "</div>"
      ],
      "text/plain": [
       "   col1  col2\n",
       "A     1     2\n",
       "B     2     4\n",
       "C     5     7"
      ]
     },
     "execution_count": 2,
     "metadata": {},
     "output_type": "execute_result"
    }
   ],
   "source": [
    "df = pd.DataFrame(data=some_matrix, columns=[\"col1\", \"col2\"], index=[\"A\", \"B\", \"C\"])\n",
    "df\n"
   ]
  },
  {
   "cell_type": "markdown",
   "metadata": {
    "nbpresent": {
     "id": "3798affd-1e44-40d6-a64b-8ff1d8a1ff45"
    }
   },
   "source": [
    "\n",
    "## 1 The data set structure\n",
    "\n",
    "The Titanic data"
   ]
  },
  {
   "cell_type": "code",
   "execution_count": 3,
   "metadata": {
    "nbpresent": {
     "id": "78d8f39d-7c35-4ee4-b297-aa481f751956"
    },
    "scrolled": true
   },
   "outputs": [
    {
     "data": {
      "text/html": [
       "<div>\n",
       "<style scoped>\n",
       "    .dataframe tbody tr th:only-of-type {\n",
       "        vertical-align: middle;\n",
       "    }\n",
       "\n",
       "    .dataframe tbody tr th {\n",
       "        vertical-align: top;\n",
       "    }\n",
       "\n",
       "    .dataframe thead th {\n",
       "        text-align: right;\n",
       "    }\n",
       "</style>\n",
       "<table border=\"1\" class=\"dataframe\">\n",
       "  <thead>\n",
       "    <tr style=\"text-align: right;\">\n",
       "      <th></th>\n",
       "      <th>survived</th>\n",
       "      <th>pclass</th>\n",
       "      <th>sex</th>\n",
       "      <th>age</th>\n",
       "      <th>sibsp</th>\n",
       "      <th>parch</th>\n",
       "      <th>fare</th>\n",
       "      <th>embarked</th>\n",
       "      <th>class</th>\n",
       "      <th>who</th>\n",
       "      <th>adult_male</th>\n",
       "      <th>deck</th>\n",
       "      <th>embark_town</th>\n",
       "      <th>alive</th>\n",
       "      <th>alone</th>\n",
       "    </tr>\n",
       "  </thead>\n",
       "  <tbody>\n",
       "    <tr>\n",
       "      <th>0</th>\n",
       "      <td>0</td>\n",
       "      <td>3</td>\n",
       "      <td>male</td>\n",
       "      <td>22.0</td>\n",
       "      <td>1</td>\n",
       "      <td>0</td>\n",
       "      <td>7.2500</td>\n",
       "      <td>S</td>\n",
       "      <td>Third</td>\n",
       "      <td>man</td>\n",
       "      <td>True</td>\n",
       "      <td>NaN</td>\n",
       "      <td>Southampton</td>\n",
       "      <td>no</td>\n",
       "      <td>False</td>\n",
       "    </tr>\n",
       "    <tr>\n",
       "      <th>1</th>\n",
       "      <td>1</td>\n",
       "      <td>1</td>\n",
       "      <td>female</td>\n",
       "      <td>38.0</td>\n",
       "      <td>1</td>\n",
       "      <td>0</td>\n",
       "      <td>71.2833</td>\n",
       "      <td>C</td>\n",
       "      <td>First</td>\n",
       "      <td>woman</td>\n",
       "      <td>False</td>\n",
       "      <td>C</td>\n",
       "      <td>Cherbourg</td>\n",
       "      <td>yes</td>\n",
       "      <td>False</td>\n",
       "    </tr>\n",
       "    <tr>\n",
       "      <th>2</th>\n",
       "      <td>1</td>\n",
       "      <td>3</td>\n",
       "      <td>female</td>\n",
       "      <td>26.0</td>\n",
       "      <td>0</td>\n",
       "      <td>0</td>\n",
       "      <td>7.9250</td>\n",
       "      <td>S</td>\n",
       "      <td>Third</td>\n",
       "      <td>woman</td>\n",
       "      <td>False</td>\n",
       "      <td>NaN</td>\n",
       "      <td>Southampton</td>\n",
       "      <td>yes</td>\n",
       "      <td>True</td>\n",
       "    </tr>\n",
       "    <tr>\n",
       "      <th>3</th>\n",
       "      <td>1</td>\n",
       "      <td>1</td>\n",
       "      <td>female</td>\n",
       "      <td>35.0</td>\n",
       "      <td>1</td>\n",
       "      <td>0</td>\n",
       "      <td>53.1000</td>\n",
       "      <td>S</td>\n",
       "      <td>First</td>\n",
       "      <td>woman</td>\n",
       "      <td>False</td>\n",
       "      <td>C</td>\n",
       "      <td>Southampton</td>\n",
       "      <td>yes</td>\n",
       "      <td>False</td>\n",
       "    </tr>\n",
       "    <tr>\n",
       "      <th>4</th>\n",
       "      <td>0</td>\n",
       "      <td>3</td>\n",
       "      <td>male</td>\n",
       "      <td>35.0</td>\n",
       "      <td>0</td>\n",
       "      <td>0</td>\n",
       "      <td>8.0500</td>\n",
       "      <td>S</td>\n",
       "      <td>Third</td>\n",
       "      <td>man</td>\n",
       "      <td>True</td>\n",
       "      <td>NaN</td>\n",
       "      <td>Southampton</td>\n",
       "      <td>no</td>\n",
       "      <td>True</td>\n",
       "    </tr>\n",
       "    <tr>\n",
       "      <th>...</th>\n",
       "      <td>...</td>\n",
       "      <td>...</td>\n",
       "      <td>...</td>\n",
       "      <td>...</td>\n",
       "      <td>...</td>\n",
       "      <td>...</td>\n",
       "      <td>...</td>\n",
       "      <td>...</td>\n",
       "      <td>...</td>\n",
       "      <td>...</td>\n",
       "      <td>...</td>\n",
       "      <td>...</td>\n",
       "      <td>...</td>\n",
       "      <td>...</td>\n",
       "      <td>...</td>\n",
       "    </tr>\n",
       "    <tr>\n",
       "      <th>886</th>\n",
       "      <td>0</td>\n",
       "      <td>2</td>\n",
       "      <td>male</td>\n",
       "      <td>27.0</td>\n",
       "      <td>0</td>\n",
       "      <td>0</td>\n",
       "      <td>13.0000</td>\n",
       "      <td>S</td>\n",
       "      <td>Second</td>\n",
       "      <td>man</td>\n",
       "      <td>True</td>\n",
       "      <td>NaN</td>\n",
       "      <td>Southampton</td>\n",
       "      <td>no</td>\n",
       "      <td>True</td>\n",
       "    </tr>\n",
       "    <tr>\n",
       "      <th>887</th>\n",
       "      <td>1</td>\n",
       "      <td>1</td>\n",
       "      <td>female</td>\n",
       "      <td>19.0</td>\n",
       "      <td>0</td>\n",
       "      <td>0</td>\n",
       "      <td>30.0000</td>\n",
       "      <td>S</td>\n",
       "      <td>First</td>\n",
       "      <td>woman</td>\n",
       "      <td>False</td>\n",
       "      <td>B</td>\n",
       "      <td>Southampton</td>\n",
       "      <td>yes</td>\n",
       "      <td>True</td>\n",
       "    </tr>\n",
       "    <tr>\n",
       "      <th>888</th>\n",
       "      <td>0</td>\n",
       "      <td>3</td>\n",
       "      <td>female</td>\n",
       "      <td>NaN</td>\n",
       "      <td>1</td>\n",
       "      <td>2</td>\n",
       "      <td>23.4500</td>\n",
       "      <td>S</td>\n",
       "      <td>Third</td>\n",
       "      <td>woman</td>\n",
       "      <td>False</td>\n",
       "      <td>NaN</td>\n",
       "      <td>Southampton</td>\n",
       "      <td>no</td>\n",
       "      <td>False</td>\n",
       "    </tr>\n",
       "    <tr>\n",
       "      <th>889</th>\n",
       "      <td>1</td>\n",
       "      <td>1</td>\n",
       "      <td>male</td>\n",
       "      <td>26.0</td>\n",
       "      <td>0</td>\n",
       "      <td>0</td>\n",
       "      <td>30.0000</td>\n",
       "      <td>C</td>\n",
       "      <td>First</td>\n",
       "      <td>man</td>\n",
       "      <td>True</td>\n",
       "      <td>C</td>\n",
       "      <td>Cherbourg</td>\n",
       "      <td>yes</td>\n",
       "      <td>True</td>\n",
       "    </tr>\n",
       "    <tr>\n",
       "      <th>890</th>\n",
       "      <td>0</td>\n",
       "      <td>3</td>\n",
       "      <td>male</td>\n",
       "      <td>32.0</td>\n",
       "      <td>0</td>\n",
       "      <td>0</td>\n",
       "      <td>7.7500</td>\n",
       "      <td>Q</td>\n",
       "      <td>Third</td>\n",
       "      <td>man</td>\n",
       "      <td>True</td>\n",
       "      <td>NaN</td>\n",
       "      <td>Queenstown</td>\n",
       "      <td>no</td>\n",
       "      <td>True</td>\n",
       "    </tr>\n",
       "  </tbody>\n",
       "</table>\n",
       "<p>891 rows × 15 columns</p>\n",
       "</div>"
      ],
      "text/plain": [
       "     survived  pclass     sex   age  sibsp  parch     fare embarked   class  \\\n",
       "0           0       3    male  22.0      1      0   7.2500        S   Third   \n",
       "1           1       1  female  38.0      1      0  71.2833        C   First   \n",
       "2           1       3  female  26.0      0      0   7.9250        S   Third   \n",
       "3           1       1  female  35.0      1      0  53.1000        S   First   \n",
       "4           0       3    male  35.0      0      0   8.0500        S   Third   \n",
       "..        ...     ...     ...   ...    ...    ...      ...      ...     ...   \n",
       "886         0       2    male  27.0      0      0  13.0000        S  Second   \n",
       "887         1       1  female  19.0      0      0  30.0000        S   First   \n",
       "888         0       3  female   NaN      1      2  23.4500        S   Third   \n",
       "889         1       1    male  26.0      0      0  30.0000        C   First   \n",
       "890         0       3    male  32.0      0      0   7.7500        Q   Third   \n",
       "\n",
       "       who  adult_male deck  embark_town alive  alone  \n",
       "0      man        True  NaN  Southampton    no  False  \n",
       "1    woman       False    C    Cherbourg   yes  False  \n",
       "2    woman       False  NaN  Southampton   yes   True  \n",
       "3    woman       False    C  Southampton   yes  False  \n",
       "4      man        True  NaN  Southampton    no   True  \n",
       "..     ...         ...  ...          ...   ...    ...  \n",
       "886    man        True  NaN  Southampton    no   True  \n",
       "887  woman       False    B  Southampton   yes   True  \n",
       "888  woman       False  NaN  Southampton    no  False  \n",
       "889    man        True    C    Cherbourg   yes   True  \n",
       "890    man        True  NaN   Queenstown    no   True  \n",
       "\n",
       "[891 rows x 15 columns]"
      ]
     },
     "execution_count": 3,
     "metadata": {},
     "output_type": "execute_result"
    }
   ],
   "source": [
    "import seaborn as sns\n",
    "\n",
    "titanic_df = sns.load_dataset(\"titanic\")\n",
    "titanic_df\n"
   ]
  },
  {
   "cell_type": "markdown",
   "metadata": {
    "nbpresent": {
     "id": "7617ea80-e6ba-469e-9ab5-826105bc74f1"
    }
   },
   "source": [
    "Lets observe its basic structure. We see here the column names, their classes and other information."
   ]
  },
  {
   "cell_type": "code",
   "execution_count": 4,
   "metadata": {
    "nbpresent": {
     "id": "72a292b0-2b1a-4bfc-8c07-3012c0d4ae1e"
    },
    "scrolled": false
   },
   "outputs": [
    {
     "name": "stdout",
     "output_type": "stream",
     "text": [
      "<class 'pandas.core.frame.DataFrame'>\n",
      "RangeIndex: 891 entries, 0 to 890\n",
      "Data columns (total 15 columns):\n",
      " #   Column       Non-Null Count  Dtype   \n",
      "---  ------       --------------  -----   \n",
      " 0   survived     891 non-null    int64   \n",
      " 1   pclass       891 non-null    int64   \n",
      " 2   sex          891 non-null    object  \n",
      " 3   age          714 non-null    float64 \n",
      " 4   sibsp        891 non-null    int64   \n",
      " 5   parch        891 non-null    int64   \n",
      " 6   fare         891 non-null    float64 \n",
      " 7   embarked     889 non-null    object  \n",
      " 8   class        891 non-null    category\n",
      " 9   who          891 non-null    object  \n",
      " 10  adult_male   891 non-null    bool    \n",
      " 11  deck         203 non-null    category\n",
      " 12  embark_town  889 non-null    object  \n",
      " 13  alive        891 non-null    object  \n",
      " 14  alone        891 non-null    bool    \n",
      "dtypes: bool(2), category(2), float64(2), int64(4), object(5)\n",
      "memory usage: 80.7+ KB\n"
     ]
    }
   ],
   "source": [
    "titanic_df.info()\n"
   ]
  },
  {
   "cell_type": "markdown",
   "metadata": {
    "nbpresent": {
     "id": "76f4346c-d4a4-4dcc-83e1-6591db9c685b"
    }
   },
   "source": [
    "survived: Survival\t0 = No, 1 = Yes\n",
    "pclass: Ticket class\t1 = 1st, 2 = 2nd, 3 = 3rd\n",
    "sex: Sex\t\n",
    "Age: Age in years\t\n",
    "sibsp: # of siblings / spouses aboard the Titanic\t\n",
    "parch: # of parents / children aboard the Titanic\t\n",
    "ticket: Ticket number\t\n",
    "fare: Passenger fare\t\n",
    "cabin: Cabin number\t\n",
    "embarked: Port of Embarkation"
   ]
  },
  {
   "cell_type": "markdown",
   "metadata": {
    "nbpresent": {
     "id": "427715ba-1963-459b-af6a-519df0f63fcc"
    }
   },
   "source": [
    "# Some basic statistics. \n",
    "\n",
    "We see the minimum and maximum, the mean and the median and the 1st and 3rd quartile of the of each column."
   ]
  },
  {
   "cell_type": "code",
   "execution_count": 5,
   "metadata": {
    "nbpresent": {
     "id": "86bf1499-398f-4413-a1df-45e32a52380d"
    }
   },
   "outputs": [
    {
     "data": {
      "text/html": [
       "<div>\n",
       "<style scoped>\n",
       "    .dataframe tbody tr th:only-of-type {\n",
       "        vertical-align: middle;\n",
       "    }\n",
       "\n",
       "    .dataframe tbody tr th {\n",
       "        vertical-align: top;\n",
       "    }\n",
       "\n",
       "    .dataframe thead th {\n",
       "        text-align: right;\n",
       "    }\n",
       "</style>\n",
       "<table border=\"1\" class=\"dataframe\">\n",
       "  <thead>\n",
       "    <tr style=\"text-align: right;\">\n",
       "      <th></th>\n",
       "      <th>survived</th>\n",
       "      <th>pclass</th>\n",
       "      <th>sex</th>\n",
       "      <th>age</th>\n",
       "      <th>sibsp</th>\n",
       "      <th>parch</th>\n",
       "      <th>fare</th>\n",
       "      <th>embarked</th>\n",
       "      <th>class</th>\n",
       "      <th>who</th>\n",
       "      <th>adult_male</th>\n",
       "      <th>deck</th>\n",
       "      <th>embark_town</th>\n",
       "      <th>alive</th>\n",
       "      <th>alone</th>\n",
       "    </tr>\n",
       "  </thead>\n",
       "  <tbody>\n",
       "    <tr>\n",
       "      <th>count</th>\n",
       "      <td>891.000000</td>\n",
       "      <td>891.000000</td>\n",
       "      <td>891</td>\n",
       "      <td>714.000000</td>\n",
       "      <td>891.000000</td>\n",
       "      <td>891.000000</td>\n",
       "      <td>891.000000</td>\n",
       "      <td>889</td>\n",
       "      <td>891</td>\n",
       "      <td>891</td>\n",
       "      <td>891</td>\n",
       "      <td>203</td>\n",
       "      <td>889</td>\n",
       "      <td>891</td>\n",
       "      <td>891</td>\n",
       "    </tr>\n",
       "    <tr>\n",
       "      <th>unique</th>\n",
       "      <td>NaN</td>\n",
       "      <td>NaN</td>\n",
       "      <td>2</td>\n",
       "      <td>NaN</td>\n",
       "      <td>NaN</td>\n",
       "      <td>NaN</td>\n",
       "      <td>NaN</td>\n",
       "      <td>3</td>\n",
       "      <td>3</td>\n",
       "      <td>3</td>\n",
       "      <td>2</td>\n",
       "      <td>7</td>\n",
       "      <td>3</td>\n",
       "      <td>2</td>\n",
       "      <td>2</td>\n",
       "    </tr>\n",
       "    <tr>\n",
       "      <th>top</th>\n",
       "      <td>NaN</td>\n",
       "      <td>NaN</td>\n",
       "      <td>male</td>\n",
       "      <td>NaN</td>\n",
       "      <td>NaN</td>\n",
       "      <td>NaN</td>\n",
       "      <td>NaN</td>\n",
       "      <td>S</td>\n",
       "      <td>Third</td>\n",
       "      <td>man</td>\n",
       "      <td>True</td>\n",
       "      <td>C</td>\n",
       "      <td>Southampton</td>\n",
       "      <td>no</td>\n",
       "      <td>True</td>\n",
       "    </tr>\n",
       "    <tr>\n",
       "      <th>freq</th>\n",
       "      <td>NaN</td>\n",
       "      <td>NaN</td>\n",
       "      <td>577</td>\n",
       "      <td>NaN</td>\n",
       "      <td>NaN</td>\n",
       "      <td>NaN</td>\n",
       "      <td>NaN</td>\n",
       "      <td>644</td>\n",
       "      <td>491</td>\n",
       "      <td>537</td>\n",
       "      <td>537</td>\n",
       "      <td>59</td>\n",
       "      <td>644</td>\n",
       "      <td>549</td>\n",
       "      <td>537</td>\n",
       "    </tr>\n",
       "    <tr>\n",
       "      <th>mean</th>\n",
       "      <td>0.383838</td>\n",
       "      <td>2.308642</td>\n",
       "      <td>NaN</td>\n",
       "      <td>29.699118</td>\n",
       "      <td>0.523008</td>\n",
       "      <td>0.381594</td>\n",
       "      <td>32.204208</td>\n",
       "      <td>NaN</td>\n",
       "      <td>NaN</td>\n",
       "      <td>NaN</td>\n",
       "      <td>NaN</td>\n",
       "      <td>NaN</td>\n",
       "      <td>NaN</td>\n",
       "      <td>NaN</td>\n",
       "      <td>NaN</td>\n",
       "    </tr>\n",
       "    <tr>\n",
       "      <th>std</th>\n",
       "      <td>0.486592</td>\n",
       "      <td>0.836071</td>\n",
       "      <td>NaN</td>\n",
       "      <td>14.526497</td>\n",
       "      <td>1.102743</td>\n",
       "      <td>0.806057</td>\n",
       "      <td>49.693429</td>\n",
       "      <td>NaN</td>\n",
       "      <td>NaN</td>\n",
       "      <td>NaN</td>\n",
       "      <td>NaN</td>\n",
       "      <td>NaN</td>\n",
       "      <td>NaN</td>\n",
       "      <td>NaN</td>\n",
       "      <td>NaN</td>\n",
       "    </tr>\n",
       "    <tr>\n",
       "      <th>min</th>\n",
       "      <td>0.000000</td>\n",
       "      <td>1.000000</td>\n",
       "      <td>NaN</td>\n",
       "      <td>0.420000</td>\n",
       "      <td>0.000000</td>\n",
       "      <td>0.000000</td>\n",
       "      <td>0.000000</td>\n",
       "      <td>NaN</td>\n",
       "      <td>NaN</td>\n",
       "      <td>NaN</td>\n",
       "      <td>NaN</td>\n",
       "      <td>NaN</td>\n",
       "      <td>NaN</td>\n",
       "      <td>NaN</td>\n",
       "      <td>NaN</td>\n",
       "    </tr>\n",
       "    <tr>\n",
       "      <th>25%</th>\n",
       "      <td>0.000000</td>\n",
       "      <td>2.000000</td>\n",
       "      <td>NaN</td>\n",
       "      <td>20.125000</td>\n",
       "      <td>0.000000</td>\n",
       "      <td>0.000000</td>\n",
       "      <td>7.910400</td>\n",
       "      <td>NaN</td>\n",
       "      <td>NaN</td>\n",
       "      <td>NaN</td>\n",
       "      <td>NaN</td>\n",
       "      <td>NaN</td>\n",
       "      <td>NaN</td>\n",
       "      <td>NaN</td>\n",
       "      <td>NaN</td>\n",
       "    </tr>\n",
       "    <tr>\n",
       "      <th>50%</th>\n",
       "      <td>0.000000</td>\n",
       "      <td>3.000000</td>\n",
       "      <td>NaN</td>\n",
       "      <td>28.000000</td>\n",
       "      <td>0.000000</td>\n",
       "      <td>0.000000</td>\n",
       "      <td>14.454200</td>\n",
       "      <td>NaN</td>\n",
       "      <td>NaN</td>\n",
       "      <td>NaN</td>\n",
       "      <td>NaN</td>\n",
       "      <td>NaN</td>\n",
       "      <td>NaN</td>\n",
       "      <td>NaN</td>\n",
       "      <td>NaN</td>\n",
       "    </tr>\n",
       "    <tr>\n",
       "      <th>75%</th>\n",
       "      <td>1.000000</td>\n",
       "      <td>3.000000</td>\n",
       "      <td>NaN</td>\n",
       "      <td>38.000000</td>\n",
       "      <td>1.000000</td>\n",
       "      <td>0.000000</td>\n",
       "      <td>31.000000</td>\n",
       "      <td>NaN</td>\n",
       "      <td>NaN</td>\n",
       "      <td>NaN</td>\n",
       "      <td>NaN</td>\n",
       "      <td>NaN</td>\n",
       "      <td>NaN</td>\n",
       "      <td>NaN</td>\n",
       "      <td>NaN</td>\n",
       "    </tr>\n",
       "    <tr>\n",
       "      <th>max</th>\n",
       "      <td>1.000000</td>\n",
       "      <td>3.000000</td>\n",
       "      <td>NaN</td>\n",
       "      <td>80.000000</td>\n",
       "      <td>8.000000</td>\n",
       "      <td>6.000000</td>\n",
       "      <td>512.329200</td>\n",
       "      <td>NaN</td>\n",
       "      <td>NaN</td>\n",
       "      <td>NaN</td>\n",
       "      <td>NaN</td>\n",
       "      <td>NaN</td>\n",
       "      <td>NaN</td>\n",
       "      <td>NaN</td>\n",
       "      <td>NaN</td>\n",
       "    </tr>\n",
       "  </tbody>\n",
       "</table>\n",
       "</div>"
      ],
      "text/plain": [
       "          survived      pclass   sex         age       sibsp       parch  \\\n",
       "count   891.000000  891.000000   891  714.000000  891.000000  891.000000   \n",
       "unique         NaN         NaN     2         NaN         NaN         NaN   \n",
       "top            NaN         NaN  male         NaN         NaN         NaN   \n",
       "freq           NaN         NaN   577         NaN         NaN         NaN   \n",
       "mean      0.383838    2.308642   NaN   29.699118    0.523008    0.381594   \n",
       "std       0.486592    0.836071   NaN   14.526497    1.102743    0.806057   \n",
       "min       0.000000    1.000000   NaN    0.420000    0.000000    0.000000   \n",
       "25%       0.000000    2.000000   NaN   20.125000    0.000000    0.000000   \n",
       "50%       0.000000    3.000000   NaN   28.000000    0.000000    0.000000   \n",
       "75%       1.000000    3.000000   NaN   38.000000    1.000000    0.000000   \n",
       "max       1.000000    3.000000   NaN   80.000000    8.000000    6.000000   \n",
       "\n",
       "              fare embarked  class  who adult_male deck  embark_town alive  \\\n",
       "count   891.000000      889    891  891        891  203          889   891   \n",
       "unique         NaN        3      3    3          2    7            3     2   \n",
       "top            NaN        S  Third  man       True    C  Southampton    no   \n",
       "freq           NaN      644    491  537        537   59          644   549   \n",
       "mean     32.204208      NaN    NaN  NaN        NaN  NaN          NaN   NaN   \n",
       "std      49.693429      NaN    NaN  NaN        NaN  NaN          NaN   NaN   \n",
       "min       0.000000      NaN    NaN  NaN        NaN  NaN          NaN   NaN   \n",
       "25%       7.910400      NaN    NaN  NaN        NaN  NaN          NaN   NaN   \n",
       "50%      14.454200      NaN    NaN  NaN        NaN  NaN          NaN   NaN   \n",
       "75%      31.000000      NaN    NaN  NaN        NaN  NaN          NaN   NaN   \n",
       "max     512.329200      NaN    NaN  NaN        NaN  NaN          NaN   NaN   \n",
       "\n",
       "       alone  \n",
       "count    891  \n",
       "unique     2  \n",
       "top     True  \n",
       "freq     537  \n",
       "mean     NaN  \n",
       "std      NaN  \n",
       "min      NaN  \n",
       "25%      NaN  \n",
       "50%      NaN  \n",
       "75%      NaN  \n",
       "max      NaN  "
      ]
     },
     "execution_count": 5,
     "metadata": {},
     "output_type": "execute_result"
    }
   ],
   "source": [
    "titanic_df.describe(include=\"all\")\n"
   ]
  },
  {
   "cell_type": "markdown",
   "metadata": {
    "nbpresent": {
     "id": "dd15f2c3-8c53-419a-9dc7-c691904b4961"
    }
   },
   "source": [
    "Lets look at the first few rows of the dataset"
   ]
  },
  {
   "cell_type": "code",
   "execution_count": 6,
   "metadata": {
    "nbpresent": {
     "id": "c9d55b19-eec7-43d9-8671-e6c7de19385a"
    }
   },
   "outputs": [
    {
     "data": {
      "text/html": [
       "<div>\n",
       "<style scoped>\n",
       "    .dataframe tbody tr th:only-of-type {\n",
       "        vertical-align: middle;\n",
       "    }\n",
       "\n",
       "    .dataframe tbody tr th {\n",
       "        vertical-align: top;\n",
       "    }\n",
       "\n",
       "    .dataframe thead th {\n",
       "        text-align: right;\n",
       "    }\n",
       "</style>\n",
       "<table border=\"1\" class=\"dataframe\">\n",
       "  <thead>\n",
       "    <tr style=\"text-align: right;\">\n",
       "      <th></th>\n",
       "      <th>survived</th>\n",
       "      <th>pclass</th>\n",
       "      <th>sex</th>\n",
       "      <th>age</th>\n",
       "      <th>sibsp</th>\n",
       "      <th>parch</th>\n",
       "      <th>fare</th>\n",
       "      <th>embarked</th>\n",
       "      <th>class</th>\n",
       "      <th>who</th>\n",
       "      <th>adult_male</th>\n",
       "      <th>deck</th>\n",
       "      <th>embark_town</th>\n",
       "      <th>alive</th>\n",
       "      <th>alone</th>\n",
       "    </tr>\n",
       "  </thead>\n",
       "  <tbody>\n",
       "    <tr>\n",
       "      <th>0</th>\n",
       "      <td>0</td>\n",
       "      <td>3</td>\n",
       "      <td>male</td>\n",
       "      <td>22.0</td>\n",
       "      <td>1</td>\n",
       "      <td>0</td>\n",
       "      <td>7.2500</td>\n",
       "      <td>S</td>\n",
       "      <td>Third</td>\n",
       "      <td>man</td>\n",
       "      <td>True</td>\n",
       "      <td>NaN</td>\n",
       "      <td>Southampton</td>\n",
       "      <td>no</td>\n",
       "      <td>False</td>\n",
       "    </tr>\n",
       "    <tr>\n",
       "      <th>1</th>\n",
       "      <td>1</td>\n",
       "      <td>1</td>\n",
       "      <td>female</td>\n",
       "      <td>38.0</td>\n",
       "      <td>1</td>\n",
       "      <td>0</td>\n",
       "      <td>71.2833</td>\n",
       "      <td>C</td>\n",
       "      <td>First</td>\n",
       "      <td>woman</td>\n",
       "      <td>False</td>\n",
       "      <td>C</td>\n",
       "      <td>Cherbourg</td>\n",
       "      <td>yes</td>\n",
       "      <td>False</td>\n",
       "    </tr>\n",
       "    <tr>\n",
       "      <th>2</th>\n",
       "      <td>1</td>\n",
       "      <td>3</td>\n",
       "      <td>female</td>\n",
       "      <td>26.0</td>\n",
       "      <td>0</td>\n",
       "      <td>0</td>\n",
       "      <td>7.9250</td>\n",
       "      <td>S</td>\n",
       "      <td>Third</td>\n",
       "      <td>woman</td>\n",
       "      <td>False</td>\n",
       "      <td>NaN</td>\n",
       "      <td>Southampton</td>\n",
       "      <td>yes</td>\n",
       "      <td>True</td>\n",
       "    </tr>\n",
       "    <tr>\n",
       "      <th>3</th>\n",
       "      <td>1</td>\n",
       "      <td>1</td>\n",
       "      <td>female</td>\n",
       "      <td>35.0</td>\n",
       "      <td>1</td>\n",
       "      <td>0</td>\n",
       "      <td>53.1000</td>\n",
       "      <td>S</td>\n",
       "      <td>First</td>\n",
       "      <td>woman</td>\n",
       "      <td>False</td>\n",
       "      <td>C</td>\n",
       "      <td>Southampton</td>\n",
       "      <td>yes</td>\n",
       "      <td>False</td>\n",
       "    </tr>\n",
       "    <tr>\n",
       "      <th>4</th>\n",
       "      <td>0</td>\n",
       "      <td>3</td>\n",
       "      <td>male</td>\n",
       "      <td>35.0</td>\n",
       "      <td>0</td>\n",
       "      <td>0</td>\n",
       "      <td>8.0500</td>\n",
       "      <td>S</td>\n",
       "      <td>Third</td>\n",
       "      <td>man</td>\n",
       "      <td>True</td>\n",
       "      <td>NaN</td>\n",
       "      <td>Southampton</td>\n",
       "      <td>no</td>\n",
       "      <td>True</td>\n",
       "    </tr>\n",
       "  </tbody>\n",
       "</table>\n",
       "</div>"
      ],
      "text/plain": [
       "   survived  pclass     sex   age  sibsp  parch     fare embarked  class  \\\n",
       "0         0       3    male  22.0      1      0   7.2500        S  Third   \n",
       "1         1       1  female  38.0      1      0  71.2833        C  First   \n",
       "2         1       3  female  26.0      0      0   7.9250        S  Third   \n",
       "3         1       1  female  35.0      1      0  53.1000        S  First   \n",
       "4         0       3    male  35.0      0      0   8.0500        S  Third   \n",
       "\n",
       "     who  adult_male deck  embark_town alive  alone  \n",
       "0    man        True  NaN  Southampton    no  False  \n",
       "1  woman       False    C    Cherbourg   yes  False  \n",
       "2  woman       False  NaN  Southampton   yes   True  \n",
       "3  woman       False    C  Southampton   yes  False  \n",
       "4    man        True  NaN  Southampton    no   True  "
      ]
     },
     "execution_count": 6,
     "metadata": {},
     "output_type": "execute_result"
    }
   ],
   "source": [
    "titanic_df.head()\n"
   ]
  },
  {
   "cell_type": "code",
   "execution_count": 7,
   "metadata": {
    "nbpresent": {
     "id": "e9c48f16-3edc-4dec-9580-5198d397e396"
    }
   },
   "outputs": [
    {
     "data": {
      "text/html": [
       "<div>\n",
       "<style scoped>\n",
       "    .dataframe tbody tr th:only-of-type {\n",
       "        vertical-align: middle;\n",
       "    }\n",
       "\n",
       "    .dataframe tbody tr th {\n",
       "        vertical-align: top;\n",
       "    }\n",
       "\n",
       "    .dataframe thead th {\n",
       "        text-align: right;\n",
       "    }\n",
       "</style>\n",
       "<table border=\"1\" class=\"dataframe\">\n",
       "  <thead>\n",
       "    <tr style=\"text-align: right;\">\n",
       "      <th></th>\n",
       "      <th>survived</th>\n",
       "      <th>pclass</th>\n",
       "      <th>sex</th>\n",
       "      <th>age</th>\n",
       "      <th>sibsp</th>\n",
       "      <th>parch</th>\n",
       "      <th>fare</th>\n",
       "      <th>embarked</th>\n",
       "      <th>class</th>\n",
       "      <th>who</th>\n",
       "      <th>adult_male</th>\n",
       "      <th>deck</th>\n",
       "      <th>embark_town</th>\n",
       "      <th>alive</th>\n",
       "      <th>alone</th>\n",
       "    </tr>\n",
       "  </thead>\n",
       "  <tbody>\n",
       "    <tr>\n",
       "      <th>886</th>\n",
       "      <td>0</td>\n",
       "      <td>2</td>\n",
       "      <td>male</td>\n",
       "      <td>27.0</td>\n",
       "      <td>0</td>\n",
       "      <td>0</td>\n",
       "      <td>13.00</td>\n",
       "      <td>S</td>\n",
       "      <td>Second</td>\n",
       "      <td>man</td>\n",
       "      <td>True</td>\n",
       "      <td>NaN</td>\n",
       "      <td>Southampton</td>\n",
       "      <td>no</td>\n",
       "      <td>True</td>\n",
       "    </tr>\n",
       "    <tr>\n",
       "      <th>887</th>\n",
       "      <td>1</td>\n",
       "      <td>1</td>\n",
       "      <td>female</td>\n",
       "      <td>19.0</td>\n",
       "      <td>0</td>\n",
       "      <td>0</td>\n",
       "      <td>30.00</td>\n",
       "      <td>S</td>\n",
       "      <td>First</td>\n",
       "      <td>woman</td>\n",
       "      <td>False</td>\n",
       "      <td>B</td>\n",
       "      <td>Southampton</td>\n",
       "      <td>yes</td>\n",
       "      <td>True</td>\n",
       "    </tr>\n",
       "    <tr>\n",
       "      <th>888</th>\n",
       "      <td>0</td>\n",
       "      <td>3</td>\n",
       "      <td>female</td>\n",
       "      <td>NaN</td>\n",
       "      <td>1</td>\n",
       "      <td>2</td>\n",
       "      <td>23.45</td>\n",
       "      <td>S</td>\n",
       "      <td>Third</td>\n",
       "      <td>woman</td>\n",
       "      <td>False</td>\n",
       "      <td>NaN</td>\n",
       "      <td>Southampton</td>\n",
       "      <td>no</td>\n",
       "      <td>False</td>\n",
       "    </tr>\n",
       "    <tr>\n",
       "      <th>889</th>\n",
       "      <td>1</td>\n",
       "      <td>1</td>\n",
       "      <td>male</td>\n",
       "      <td>26.0</td>\n",
       "      <td>0</td>\n",
       "      <td>0</td>\n",
       "      <td>30.00</td>\n",
       "      <td>C</td>\n",
       "      <td>First</td>\n",
       "      <td>man</td>\n",
       "      <td>True</td>\n",
       "      <td>C</td>\n",
       "      <td>Cherbourg</td>\n",
       "      <td>yes</td>\n",
       "      <td>True</td>\n",
       "    </tr>\n",
       "    <tr>\n",
       "      <th>890</th>\n",
       "      <td>0</td>\n",
       "      <td>3</td>\n",
       "      <td>male</td>\n",
       "      <td>32.0</td>\n",
       "      <td>0</td>\n",
       "      <td>0</td>\n",
       "      <td>7.75</td>\n",
       "      <td>Q</td>\n",
       "      <td>Third</td>\n",
       "      <td>man</td>\n",
       "      <td>True</td>\n",
       "      <td>NaN</td>\n",
       "      <td>Queenstown</td>\n",
       "      <td>no</td>\n",
       "      <td>True</td>\n",
       "    </tr>\n",
       "  </tbody>\n",
       "</table>\n",
       "</div>"
      ],
      "text/plain": [
       "     survived  pclass     sex   age  sibsp  parch   fare embarked   class  \\\n",
       "886         0       2    male  27.0      0      0  13.00        S  Second   \n",
       "887         1       1  female  19.0      0      0  30.00        S   First   \n",
       "888         0       3  female   NaN      1      2  23.45        S   Third   \n",
       "889         1       1    male  26.0      0      0  30.00        C   First   \n",
       "890         0       3    male  32.0      0      0   7.75        Q   Third   \n",
       "\n",
       "       who  adult_male deck  embark_town alive  alone  \n",
       "886    man        True  NaN  Southampton    no   True  \n",
       "887  woman       False    B  Southampton   yes   True  \n",
       "888  woman       False  NaN  Southampton    no  False  \n",
       "889    man        True    C    Cherbourg   yes   True  \n",
       "890    man        True  NaN   Queenstown    no   True  "
      ]
     },
     "execution_count": 7,
     "metadata": {},
     "output_type": "execute_result"
    }
   ],
   "source": [
    "titanic_df.tail()\n"
   ]
  },
  {
   "cell_type": "markdown",
   "metadata": {
    "nbpresent": {
     "id": "a19a0cdb-d2d5-49f9-82be-2d0595485015"
    }
   },
   "source": [
    "The pandas data frame has many attributes to study the dataset:"
   ]
  },
  {
   "cell_type": "code",
   "execution_count": 8,
   "metadata": {
    "nbpresent": {
     "id": "fbb62754-3598-4b58-b024-b23dba60bfd8"
    }
   },
   "outputs": [
    {
     "data": {
      "text/plain": [
       "(891, 15)"
      ]
     },
     "execution_count": 8,
     "metadata": {},
     "output_type": "execute_result"
    }
   ],
   "source": [
    "## The dimensions\n",
    "titanic_df.shape\n"
   ]
  },
  {
   "cell_type": "code",
   "execution_count": 9,
   "metadata": {
    "nbpresent": {
     "id": "5ac76275-f8ec-4195-9cef-20af961c3601"
    }
   },
   "outputs": [
    {
     "data": {
      "text/plain": [
       "(891, 15)"
      ]
     },
     "execution_count": 9,
     "metadata": {},
     "output_type": "execute_result"
    }
   ],
   "source": [
    "## The number of rows and columns\n",
    "titanic_df.shape[0], titanic_df.shape[1]\n"
   ]
  },
  {
   "cell_type": "code",
   "execution_count": 10,
   "metadata": {
    "nbpresent": {
     "id": "7146adb7-8bae-4d21-99d5-6f6fb688c036"
    }
   },
   "outputs": [
    {
     "data": {
      "text/plain": [
       "Index(['survived', 'pclass', 'sex', 'age', 'sibsp', 'parch', 'fare',\n",
       "       'embarked', 'class', 'who', 'adult_male', 'deck', 'embark_town',\n",
       "       'alive', 'alone'],\n",
       "      dtype='object')"
      ]
     },
     "execution_count": 10,
     "metadata": {},
     "output_type": "execute_result"
    }
   ],
   "source": [
    "## The column names\n",
    "titanic_df.columns\n"
   ]
  },
  {
   "cell_type": "code",
   "execution_count": 11,
   "metadata": {
    "nbpresent": {
     "id": "5f63fe8b-b2de-4f2f-87c2-806256e67308"
    }
   },
   "outputs": [
    {
     "data": {
      "text/plain": [
       "RangeIndex(start=0, stop=891, step=1)"
      ]
     },
     "execution_count": 11,
     "metadata": {},
     "output_type": "execute_result"
    }
   ],
   "source": [
    "## The row names\n",
    "titanic_df.index\n"
   ]
  },
  {
   "cell_type": "code",
   "execution_count": 12,
   "metadata": {},
   "outputs": [
    {
     "data": {
      "text/html": [
       "<div>\n",
       "<style scoped>\n",
       "    .dataframe tbody tr th:only-of-type {\n",
       "        vertical-align: middle;\n",
       "    }\n",
       "\n",
       "    .dataframe tbody tr th {\n",
       "        vertical-align: top;\n",
       "    }\n",
       "\n",
       "    .dataframe thead th {\n",
       "        text-align: right;\n",
       "    }\n",
       "</style>\n",
       "<table border=\"1\" class=\"dataframe\">\n",
       "  <thead>\n",
       "    <tr style=\"text-align: right;\">\n",
       "      <th></th>\n",
       "      <th>survived</th>\n",
       "      <th>pclass</th>\n",
       "      <th>sex</th>\n",
       "      <th>age</th>\n",
       "      <th>sibsp</th>\n",
       "      <th>parch</th>\n",
       "      <th>fare</th>\n",
       "      <th>embarked</th>\n",
       "      <th>class</th>\n",
       "      <th>who</th>\n",
       "      <th>adult_male</th>\n",
       "      <th>deck</th>\n",
       "      <th>embark_town</th>\n",
       "      <th>alive</th>\n",
       "      <th>alone</th>\n",
       "    </tr>\n",
       "  </thead>\n",
       "  <tbody>\n",
       "    <tr>\n",
       "      <th>qyk3b</th>\n",
       "      <td>0</td>\n",
       "      <td>3</td>\n",
       "      <td>male</td>\n",
       "      <td>22.0</td>\n",
       "      <td>1</td>\n",
       "      <td>0</td>\n",
       "      <td>7.2500</td>\n",
       "      <td>S</td>\n",
       "      <td>Third</td>\n",
       "      <td>man</td>\n",
       "      <td>True</td>\n",
       "      <td>NaN</td>\n",
       "      <td>Southampton</td>\n",
       "      <td>no</td>\n",
       "      <td>False</td>\n",
       "    </tr>\n",
       "    <tr>\n",
       "      <th>fdoz7</th>\n",
       "      <td>1</td>\n",
       "      <td>1</td>\n",
       "      <td>female</td>\n",
       "      <td>38.0</td>\n",
       "      <td>1</td>\n",
       "      <td>0</td>\n",
       "      <td>71.2833</td>\n",
       "      <td>C</td>\n",
       "      <td>First</td>\n",
       "      <td>woman</td>\n",
       "      <td>False</td>\n",
       "      <td>C</td>\n",
       "      <td>Cherbourg</td>\n",
       "      <td>yes</td>\n",
       "      <td>False</td>\n",
       "    </tr>\n",
       "    <tr>\n",
       "      <th>ywxa7</th>\n",
       "      <td>1</td>\n",
       "      <td>3</td>\n",
       "      <td>female</td>\n",
       "      <td>26.0</td>\n",
       "      <td>0</td>\n",
       "      <td>0</td>\n",
       "      <td>7.9250</td>\n",
       "      <td>S</td>\n",
       "      <td>Third</td>\n",
       "      <td>woman</td>\n",
       "      <td>False</td>\n",
       "      <td>NaN</td>\n",
       "      <td>Southampton</td>\n",
       "      <td>yes</td>\n",
       "      <td>True</td>\n",
       "    </tr>\n",
       "    <tr>\n",
       "      <th>a069y</th>\n",
       "      <td>1</td>\n",
       "      <td>1</td>\n",
       "      <td>female</td>\n",
       "      <td>35.0</td>\n",
       "      <td>1</td>\n",
       "      <td>0</td>\n",
       "      <td>53.1000</td>\n",
       "      <td>S</td>\n",
       "      <td>First</td>\n",
       "      <td>woman</td>\n",
       "      <td>False</td>\n",
       "      <td>C</td>\n",
       "      <td>Southampton</td>\n",
       "      <td>yes</td>\n",
       "      <td>False</td>\n",
       "    </tr>\n",
       "    <tr>\n",
       "      <th>85wz4</th>\n",
       "      <td>0</td>\n",
       "      <td>3</td>\n",
       "      <td>male</td>\n",
       "      <td>35.0</td>\n",
       "      <td>0</td>\n",
       "      <td>0</td>\n",
       "      <td>8.0500</td>\n",
       "      <td>S</td>\n",
       "      <td>Third</td>\n",
       "      <td>man</td>\n",
       "      <td>True</td>\n",
       "      <td>NaN</td>\n",
       "      <td>Southampton</td>\n",
       "      <td>no</td>\n",
       "      <td>True</td>\n",
       "    </tr>\n",
       "    <tr>\n",
       "      <th>...</th>\n",
       "      <td>...</td>\n",
       "      <td>...</td>\n",
       "      <td>...</td>\n",
       "      <td>...</td>\n",
       "      <td>...</td>\n",
       "      <td>...</td>\n",
       "      <td>...</td>\n",
       "      <td>...</td>\n",
       "      <td>...</td>\n",
       "      <td>...</td>\n",
       "      <td>...</td>\n",
       "      <td>...</td>\n",
       "      <td>...</td>\n",
       "      <td>...</td>\n",
       "      <td>...</td>\n",
       "    </tr>\n",
       "    <tr>\n",
       "      <th>4qms6</th>\n",
       "      <td>0</td>\n",
       "      <td>2</td>\n",
       "      <td>male</td>\n",
       "      <td>27.0</td>\n",
       "      <td>0</td>\n",
       "      <td>0</td>\n",
       "      <td>13.0000</td>\n",
       "      <td>S</td>\n",
       "      <td>Second</td>\n",
       "      <td>man</td>\n",
       "      <td>True</td>\n",
       "      <td>NaN</td>\n",
       "      <td>Southampton</td>\n",
       "      <td>no</td>\n",
       "      <td>True</td>\n",
       "    </tr>\n",
       "    <tr>\n",
       "      <th>yy3m0</th>\n",
       "      <td>1</td>\n",
       "      <td>1</td>\n",
       "      <td>female</td>\n",
       "      <td>19.0</td>\n",
       "      <td>0</td>\n",
       "      <td>0</td>\n",
       "      <td>30.0000</td>\n",
       "      <td>S</td>\n",
       "      <td>First</td>\n",
       "      <td>woman</td>\n",
       "      <td>False</td>\n",
       "      <td>B</td>\n",
       "      <td>Southampton</td>\n",
       "      <td>yes</td>\n",
       "      <td>True</td>\n",
       "    </tr>\n",
       "    <tr>\n",
       "      <th>maems</th>\n",
       "      <td>0</td>\n",
       "      <td>3</td>\n",
       "      <td>female</td>\n",
       "      <td>NaN</td>\n",
       "      <td>1</td>\n",
       "      <td>2</td>\n",
       "      <td>23.4500</td>\n",
       "      <td>S</td>\n",
       "      <td>Third</td>\n",
       "      <td>woman</td>\n",
       "      <td>False</td>\n",
       "      <td>NaN</td>\n",
       "      <td>Southampton</td>\n",
       "      <td>no</td>\n",
       "      <td>False</td>\n",
       "    </tr>\n",
       "    <tr>\n",
       "      <th>e4eiy</th>\n",
       "      <td>1</td>\n",
       "      <td>1</td>\n",
       "      <td>male</td>\n",
       "      <td>26.0</td>\n",
       "      <td>0</td>\n",
       "      <td>0</td>\n",
       "      <td>30.0000</td>\n",
       "      <td>C</td>\n",
       "      <td>First</td>\n",
       "      <td>man</td>\n",
       "      <td>True</td>\n",
       "      <td>C</td>\n",
       "      <td>Cherbourg</td>\n",
       "      <td>yes</td>\n",
       "      <td>True</td>\n",
       "    </tr>\n",
       "    <tr>\n",
       "      <th>tk1ze</th>\n",
       "      <td>0</td>\n",
       "      <td>3</td>\n",
       "      <td>male</td>\n",
       "      <td>32.0</td>\n",
       "      <td>0</td>\n",
       "      <td>0</td>\n",
       "      <td>7.7500</td>\n",
       "      <td>Q</td>\n",
       "      <td>Third</td>\n",
       "      <td>man</td>\n",
       "      <td>True</td>\n",
       "      <td>NaN</td>\n",
       "      <td>Queenstown</td>\n",
       "      <td>no</td>\n",
       "      <td>True</td>\n",
       "    </tr>\n",
       "  </tbody>\n",
       "</table>\n",
       "<p>891 rows × 15 columns</p>\n",
       "</div>"
      ],
      "text/plain": [
       "       survived  pclass     sex   age  sibsp  parch     fare embarked   class  \\\n",
       "qyk3b         0       3    male  22.0      1      0   7.2500        S   Third   \n",
       "fdoz7         1       1  female  38.0      1      0  71.2833        C   First   \n",
       "ywxa7         1       3  female  26.0      0      0   7.9250        S   Third   \n",
       "a069y         1       1  female  35.0      1      0  53.1000        S   First   \n",
       "85wz4         0       3    male  35.0      0      0   8.0500        S   Third   \n",
       "...         ...     ...     ...   ...    ...    ...      ...      ...     ...   \n",
       "4qms6         0       2    male  27.0      0      0  13.0000        S  Second   \n",
       "yy3m0         1       1  female  19.0      0      0  30.0000        S   First   \n",
       "maems         0       3  female   NaN      1      2  23.4500        S   Third   \n",
       "e4eiy         1       1    male  26.0      0      0  30.0000        C   First   \n",
       "tk1ze         0       3    male  32.0      0      0   7.7500        Q   Third   \n",
       "\n",
       "         who  adult_male deck  embark_town alive  alone  \n",
       "qyk3b    man        True  NaN  Southampton    no  False  \n",
       "fdoz7  woman       False    C    Cherbourg   yes  False  \n",
       "ywxa7  woman       False  NaN  Southampton   yes   True  \n",
       "a069y  woman       False    C  Southampton   yes  False  \n",
       "85wz4    man        True  NaN  Southampton    no   True  \n",
       "...      ...         ...  ...          ...   ...    ...  \n",
       "4qms6    man        True  NaN  Southampton    no   True  \n",
       "yy3m0  woman       False    B  Southampton   yes   True  \n",
       "maems  woman       False  NaN  Southampton    no  False  \n",
       "e4eiy    man        True    C    Cherbourg   yes   True  \n",
       "tk1ze    man        True  NaN   Queenstown    no   True  \n",
       "\n",
       "[891 rows x 15 columns]"
      ]
     },
     "execution_count": 12,
     "metadata": {},
     "output_type": "execute_result"
    }
   ],
   "source": [
    "# The index is not very interesting so lets change it\n",
    "import string\n",
    "import numpy as np\n",
    "\n",
    "index_array = np.random.choice(\n",
    "    list(string.digits + string.ascii_lowercase), (titanic_df.shape[0], 5)\n",
    ")\n",
    "index = [\"\".join(a) for a in list(index_array)]\n",
    "index\n",
    "titanic_df.index = index\n",
    "titanic_df.index.is_unique\n",
    "\n",
    "titanic_df\n"
   ]
  },
  {
   "cell_type": "markdown",
   "metadata": {
    "nbpresent": {
     "id": "737fa0a3-9fff-400a-89c0-76c33fb004f0"
    }
   },
   "source": [
    "Do we have any missing values?"
   ]
  },
  {
   "cell_type": "code",
   "execution_count": 13,
   "metadata": {
    "nbpresent": {
     "id": "bc4ad76a-de33-491a-ba7b-a64774e4f7a8"
    }
   },
   "outputs": [
    {
     "data": {
      "text/plain": [
       "survived       False\n",
       "pclass         False\n",
       "sex            False\n",
       "age             True\n",
       "sibsp          False\n",
       "parch          False\n",
       "fare           False\n",
       "embarked        True\n",
       "class          False\n",
       "who            False\n",
       "adult_male     False\n",
       "deck            True\n",
       "embark_town     True\n",
       "alive          False\n",
       "alone          False\n",
       "dtype: bool"
      ]
     },
     "execution_count": 13,
     "metadata": {},
     "output_type": "execute_result"
    }
   ],
   "source": [
    "## Any missing?\n",
    "titanic_df.isnull().any()\n"
   ]
  },
  {
   "cell_type": "code",
   "execution_count": 14,
   "metadata": {
    "nbpresent": {
     "id": "60220c69-4dfc-4351-b017-c318fed2a0dc"
    }
   },
   "outputs": [
    {
     "data": {
      "text/plain": [
       "survived        True\n",
       "pclass          True\n",
       "sex             True\n",
       "age            False\n",
       "sibsp           True\n",
       "parch           True\n",
       "fare            True\n",
       "embarked       False\n",
       "class           True\n",
       "who             True\n",
       "adult_male      True\n",
       "deck           False\n",
       "embark_town    False\n",
       "alive           True\n",
       "alone           True\n",
       "dtype: bool"
      ]
     },
     "execution_count": 14,
     "metadata": {},
     "output_type": "execute_result"
    }
   ],
   "source": [
    "## All non missing?\n",
    "titanic_df.notnull().all()\n"
   ]
  },
  {
   "cell_type": "markdown",
   "metadata": {
    "nbpresent": {
     "id": "eef6d2b3-b31f-4f19-a63b-7714c8c095f7"
    }
   },
   "source": [
    "## 2 How to filter the data\n",
    "\n",
    "We can interact with the data with index or names"
   ]
  },
  {
   "cell_type": "code",
   "execution_count": 15,
   "metadata": {
    "nbpresent": {
     "id": "36056d1c-b857-4873-af27-5202a62439e3"
    }
   },
   "outputs": [
    {
     "data": {
      "text/plain": [
       "qyk3b    Southampton\n",
       "fdoz7      Cherbourg\n",
       "ywxa7    Southampton\n",
       "a069y    Southampton\n",
       "85wz4    Southampton\n",
       "            ...     \n",
       "4qms6    Southampton\n",
       "yy3m0    Southampton\n",
       "maems    Southampton\n",
       "e4eiy      Cherbourg\n",
       "tk1ze     Queenstown\n",
       "Name: embark_town, Length: 891, dtype: object"
      ]
     },
     "execution_count": 15,
     "metadata": {},
     "output_type": "execute_result"
    }
   ],
   "source": [
    "pd.options.display.max_rows = 20\n",
    "titanic_df[\"embark_town\"]\n"
   ]
  },
  {
   "cell_type": "code",
   "execution_count": 18,
   "metadata": {
    "nbpresent": {
     "id": "047abd23-a5ec-4442-8b47-7f63e7b96a3d"
    }
   },
   "outputs": [
    {
     "name": "stdout",
     "output_type": "stream",
     "text": [
      "True\n",
      "True\n"
     ]
    }
   ],
   "source": [
    "## different way to look at the first column\n",
    "\n",
    "print((titanic_df.iloc[:, 0] == titanic_df.loc[:, \"survived\"]).all())\n",
    "print((titanic_df[\"survived\"] == titanic_df.survived).all())\n"
   ]
  },
  {
   "cell_type": "code",
   "execution_count": null,
   "metadata": {
    "nbpresent": {
     "id": "30db8f9c-092b-494e-ba07-3b4941bbf081"
    }
   },
   "outputs": [
    {
     "data": {
      "text/html": [
       "<div>\n",
       "<table border=\"1\" class=\"dataframe\">\n",
       "  <thead>\n",
       "    <tr style=\"text-align: right;\">\n",
       "      <th></th>\n",
       "      <th>survived</th>\n",
       "      <th>pclass</th>\n",
       "      <th>sex</th>\n",
       "      <th>age</th>\n",
       "    </tr>\n",
       "  </thead>\n",
       "  <tbody>\n",
       "    <tr>\n",
       "      <th>0</th>\n",
       "      <td>0</td>\n",
       "      <td>3</td>\n",
       "      <td>male</td>\n",
       "      <td>22.0</td>\n",
       "    </tr>\n",
       "    <tr>\n",
       "      <th>1</th>\n",
       "      <td>1</td>\n",
       "      <td>1</td>\n",
       "      <td>female</td>\n",
       "      <td>38.0</td>\n",
       "    </tr>\n",
       "    <tr>\n",
       "      <th>2</th>\n",
       "      <td>1</td>\n",
       "      <td>3</td>\n",
       "      <td>female</td>\n",
       "      <td>26.0</td>\n",
       "    </tr>\n",
       "  </tbody>\n",
       "</table>\n",
       "</div>"
      ],
      "text/plain": [
       "   survived  pclass     sex   age\n",
       "0         0       3    male  22.0\n",
       "1         1       1  female  38.0\n",
       "2         1       3  female  26.0"
      ]
     },
     "execution_count": 18,
     "metadata": {},
     "output_type": "execute_result"
    }
   ],
   "source": [
    "## The first 3 rows and the first 4 columns\n",
    "titanic_df.iloc[:3, :4]\n"
   ]
  },
  {
   "cell_type": "code",
   "execution_count": null,
   "metadata": {
    "nbpresent": {
     "id": "3ab9a06e-67bb-4d1e-8f9a-1f006ae5b188"
    }
   },
   "outputs": [
    {
     "data": {
      "text/html": [
       "<div>\n",
       "<table border=\"1\" class=\"dataframe\">\n",
       "  <thead>\n",
       "    <tr style=\"text-align: right;\">\n",
       "      <th></th>\n",
       "      <th>deck</th>\n",
       "      <th>embark_town</th>\n",
       "      <th>alive</th>\n",
       "      <th>alone</th>\n",
       "    </tr>\n",
       "  </thead>\n",
       "  <tbody>\n",
       "    <tr>\n",
       "      <th>888</th>\n",
       "      <td>NaN</td>\n",
       "      <td>Southampton</td>\n",
       "      <td>no</td>\n",
       "      <td>False</td>\n",
       "    </tr>\n",
       "    <tr>\n",
       "      <th>889</th>\n",
       "      <td>C</td>\n",
       "      <td>Cherbourg</td>\n",
       "      <td>yes</td>\n",
       "      <td>True</td>\n",
       "    </tr>\n",
       "    <tr>\n",
       "      <th>890</th>\n",
       "      <td>NaN</td>\n",
       "      <td>Queenstown</td>\n",
       "      <td>no</td>\n",
       "      <td>True</td>\n",
       "    </tr>\n",
       "  </tbody>\n",
       "</table>\n",
       "</div>"
      ],
      "text/plain": [
       "    deck  embark_town alive  alone\n",
       "888  NaN  Southampton    no  False\n",
       "889    C    Cherbourg   yes   True\n",
       "890  NaN   Queenstown    no   True"
      ]
     },
     "execution_count": 19,
     "metadata": {},
     "output_type": "execute_result"
    }
   ],
   "source": [
    "## The last 3 rows and the last 4 columns\n",
    "titanic_df.iloc[-3:, -4:]\n"
   ]
  },
  {
   "cell_type": "code",
   "execution_count": null,
   "metadata": {
    "nbpresent": {
     "id": "07046748-1b65-4206-a9dd-da9917ab1013"
    }
   },
   "outputs": [
    {
     "data": {
      "text/html": [
       "<div>\n",
       "<table border=\"1\" class=\"dataframe\">\n",
       "  <thead>\n",
       "    <tr style=\"text-align: right;\">\n",
       "      <th></th>\n",
       "      <th>sex</th>\n",
       "      <th>age</th>\n",
       "    </tr>\n",
       "  </thead>\n",
       "  <tbody>\n",
       "    <tr>\n",
       "      <th>3</th>\n",
       "      <td>female</td>\n",
       "      <td>35.0</td>\n",
       "    </tr>\n",
       "    <tr>\n",
       "      <th>4</th>\n",
       "      <td>male</td>\n",
       "      <td>35.0</td>\n",
       "    </tr>\n",
       "    <tr>\n",
       "      <th>5</th>\n",
       "      <td>male</td>\n",
       "      <td>NaN</td>\n",
       "    </tr>\n",
       "    <tr>\n",
       "      <th>6</th>\n",
       "      <td>male</td>\n",
       "      <td>54.0</td>\n",
       "    </tr>\n",
       "    <tr>\n",
       "      <th>7</th>\n",
       "      <td>male</td>\n",
       "      <td>2.0</td>\n",
       "    </tr>\n",
       "    <tr>\n",
       "      <th>8</th>\n",
       "      <td>female</td>\n",
       "      <td>27.0</td>\n",
       "    </tr>\n",
       "    <tr>\n",
       "      <th>9</th>\n",
       "      <td>female</td>\n",
       "      <td>14.0</td>\n",
       "    </tr>\n",
       "    <tr>\n",
       "      <th>10</th>\n",
       "      <td>female</td>\n",
       "      <td>4.0</td>\n",
       "    </tr>\n",
       "    <tr>\n",
       "      <th>11</th>\n",
       "      <td>female</td>\n",
       "      <td>58.0</td>\n",
       "    </tr>\n",
       "  </tbody>\n",
       "</table>\n",
       "</div>"
      ],
      "text/plain": [
       "       sex   age\n",
       "3   female  35.0\n",
       "4     male  35.0\n",
       "5     male   NaN\n",
       "6     male  54.0\n",
       "7     male   2.0\n",
       "8   female  27.0\n",
       "9   female  14.0\n",
       "10  female   4.0\n",
       "11  female  58.0"
      ]
     },
     "execution_count": 20,
     "metadata": {},
     "output_type": "execute_result"
    }
   ],
   "source": [
    "## In general\n",
    "titanic_df.iloc[3:12, 2:4]\n"
   ]
  },
  {
   "cell_type": "code",
   "execution_count": null,
   "metadata": {
    "nbpresent": {
     "id": "817e6089-8356-4cbb-ad1c-908d15ae1a7d"
    }
   },
   "outputs": [
    {
     "data": {
      "text/html": [
       "<div>\n",
       "<table border=\"1\" class=\"dataframe\">\n",
       "  <thead>\n",
       "    <tr style=\"text-align: right;\">\n",
       "      <th></th>\n",
       "      <th>adult_male</th>\n",
       "      <th>deck</th>\n",
       "    </tr>\n",
       "  </thead>\n",
       "  <tbody>\n",
       "    <tr>\n",
       "      <th>3</th>\n",
       "      <td>False</td>\n",
       "      <td>C</td>\n",
       "    </tr>\n",
       "    <tr>\n",
       "      <th>4</th>\n",
       "      <td>True</td>\n",
       "      <td>NaN</td>\n",
       "    </tr>\n",
       "    <tr>\n",
       "      <th>5</th>\n",
       "      <td>True</td>\n",
       "      <td>NaN</td>\n",
       "    </tr>\n",
       "    <tr>\n",
       "      <th>6</th>\n",
       "      <td>True</td>\n",
       "      <td>E</td>\n",
       "    </tr>\n",
       "    <tr>\n",
       "      <th>7</th>\n",
       "      <td>False</td>\n",
       "      <td>NaN</td>\n",
       "    </tr>\n",
       "    <tr>\n",
       "      <th>8</th>\n",
       "      <td>False</td>\n",
       "      <td>NaN</td>\n",
       "    </tr>\n",
       "    <tr>\n",
       "      <th>9</th>\n",
       "      <td>False</td>\n",
       "      <td>NaN</td>\n",
       "    </tr>\n",
       "    <tr>\n",
       "      <th>10</th>\n",
       "      <td>False</td>\n",
       "      <td>G</td>\n",
       "    </tr>\n",
       "    <tr>\n",
       "      <th>11</th>\n",
       "      <td>False</td>\n",
       "      <td>C</td>\n",
       "    </tr>\n",
       "    <tr>\n",
       "      <th>12</th>\n",
       "      <td>True</td>\n",
       "      <td>NaN</td>\n",
       "    </tr>\n",
       "  </tbody>\n",
       "</table>\n",
       "</div>"
      ],
      "text/plain": [
       "   adult_male deck\n",
       "3       False    C\n",
       "4        True  NaN\n",
       "5        True  NaN\n",
       "6        True    E\n",
       "7       False  NaN\n",
       "8       False  NaN\n",
       "9       False  NaN\n",
       "10      False    G\n",
       "11      False    C\n",
       "12       True  NaN"
      ]
     },
     "execution_count": 22,
     "metadata": {},
     "output_type": "execute_result"
    }
   ],
   "source": [
    "## In general\n",
    "titanic_df.loc[3:12, [\"adult_male\", \"deck\"]]\n"
   ]
  },
  {
   "cell_type": "code",
   "execution_count": null,
   "metadata": {
    "nbpresent": {
     "id": "ad0aeb58-a7fc-4b0d-81d4-36cd19b65047"
    }
   },
   "outputs": [
    {
     "data": {
      "text/html": [
       "<div>\n",
       "<table border=\"1\" class=\"dataframe\">\n",
       "  <thead>\n",
       "    <tr style=\"text-align: right;\">\n",
       "      <th></th>\n",
       "      <th>survived</th>\n",
       "      <th>sibsp</th>\n",
       "      <th>parch</th>\n",
       "      <th>fare</th>\n",
       "      <th>embarked</th>\n",
       "      <th>class</th>\n",
       "      <th>who</th>\n",
       "      <th>adult_male</th>\n",
       "      <th>deck</th>\n",
       "      <th>embark_town</th>\n",
       "      <th>alive</th>\n",
       "      <th>alone</th>\n",
       "    </tr>\n",
       "  </thead>\n",
       "  <tbody>\n",
       "    <tr>\n",
       "      <th>0</th>\n",
       "      <td>0</td>\n",
       "      <td>1</td>\n",
       "      <td>0</td>\n",
       "      <td>7.2500</td>\n",
       "      <td>S</td>\n",
       "      <td>Third</td>\n",
       "      <td>man</td>\n",
       "      <td>True</td>\n",
       "      <td>NaN</td>\n",
       "      <td>Southampton</td>\n",
       "      <td>no</td>\n",
       "      <td>False</td>\n",
       "    </tr>\n",
       "    <tr>\n",
       "      <th>1</th>\n",
       "      <td>1</td>\n",
       "      <td>1</td>\n",
       "      <td>0</td>\n",
       "      <td>71.2833</td>\n",
       "      <td>C</td>\n",
       "      <td>First</td>\n",
       "      <td>woman</td>\n",
       "      <td>False</td>\n",
       "      <td>C</td>\n",
       "      <td>Cherbourg</td>\n",
       "      <td>yes</td>\n",
       "      <td>False</td>\n",
       "    </tr>\n",
       "    <tr>\n",
       "      <th>2</th>\n",
       "      <td>1</td>\n",
       "      <td>0</td>\n",
       "      <td>0</td>\n",
       "      <td>7.9250</td>\n",
       "      <td>S</td>\n",
       "      <td>Third</td>\n",
       "      <td>woman</td>\n",
       "      <td>False</td>\n",
       "      <td>NaN</td>\n",
       "      <td>Southampton</td>\n",
       "      <td>yes</td>\n",
       "      <td>True</td>\n",
       "    </tr>\n",
       "    <tr>\n",
       "      <th>3</th>\n",
       "      <td>1</td>\n",
       "      <td>1</td>\n",
       "      <td>0</td>\n",
       "      <td>53.1000</td>\n",
       "      <td>S</td>\n",
       "      <td>First</td>\n",
       "      <td>woman</td>\n",
       "      <td>False</td>\n",
       "      <td>C</td>\n",
       "      <td>Southampton</td>\n",
       "      <td>yes</td>\n",
       "      <td>False</td>\n",
       "    </tr>\n",
       "    <tr>\n",
       "      <th>4</th>\n",
       "      <td>0</td>\n",
       "      <td>0</td>\n",
       "      <td>0</td>\n",
       "      <td>8.0500</td>\n",
       "      <td>S</td>\n",
       "      <td>Third</td>\n",
       "      <td>man</td>\n",
       "      <td>True</td>\n",
       "      <td>NaN</td>\n",
       "      <td>Southampton</td>\n",
       "      <td>no</td>\n",
       "      <td>True</td>\n",
       "    </tr>\n",
       "    <tr>\n",
       "      <th>5</th>\n",
       "      <td>0</td>\n",
       "      <td>0</td>\n",
       "      <td>0</td>\n",
       "      <td>8.4583</td>\n",
       "      <td>Q</td>\n",
       "      <td>Third</td>\n",
       "      <td>man</td>\n",
       "      <td>True</td>\n",
       "      <td>NaN</td>\n",
       "      <td>Queenstown</td>\n",
       "      <td>no</td>\n",
       "      <td>True</td>\n",
       "    </tr>\n",
       "    <tr>\n",
       "      <th>6</th>\n",
       "      <td>0</td>\n",
       "      <td>0</td>\n",
       "      <td>0</td>\n",
       "      <td>51.8625</td>\n",
       "      <td>S</td>\n",
       "      <td>First</td>\n",
       "      <td>man</td>\n",
       "      <td>True</td>\n",
       "      <td>E</td>\n",
       "      <td>Southampton</td>\n",
       "      <td>no</td>\n",
       "      <td>True</td>\n",
       "    </tr>\n",
       "    <tr>\n",
       "      <th>7</th>\n",
       "      <td>0</td>\n",
       "      <td>3</td>\n",
       "      <td>1</td>\n",
       "      <td>21.0750</td>\n",
       "      <td>S</td>\n",
       "      <td>Third</td>\n",
       "      <td>child</td>\n",
       "      <td>False</td>\n",
       "      <td>NaN</td>\n",
       "      <td>Southampton</td>\n",
       "      <td>no</td>\n",
       "      <td>False</td>\n",
       "    </tr>\n",
       "    <tr>\n",
       "      <th>8</th>\n",
       "      <td>1</td>\n",
       "      <td>0</td>\n",
       "      <td>2</td>\n",
       "      <td>11.1333</td>\n",
       "      <td>S</td>\n",
       "      <td>Third</td>\n",
       "      <td>woman</td>\n",
       "      <td>False</td>\n",
       "      <td>NaN</td>\n",
       "      <td>Southampton</td>\n",
       "      <td>yes</td>\n",
       "      <td>False</td>\n",
       "    </tr>\n",
       "    <tr>\n",
       "      <th>9</th>\n",
       "      <td>1</td>\n",
       "      <td>1</td>\n",
       "      <td>0</td>\n",
       "      <td>30.0708</td>\n",
       "      <td>C</td>\n",
       "      <td>Second</td>\n",
       "      <td>child</td>\n",
       "      <td>False</td>\n",
       "      <td>NaN</td>\n",
       "      <td>Cherbourg</td>\n",
       "      <td>yes</td>\n",
       "      <td>False</td>\n",
       "    </tr>\n",
       "    <tr>\n",
       "      <th>...</th>\n",
       "      <td>...</td>\n",
       "      <td>...</td>\n",
       "      <td>...</td>\n",
       "      <td>...</td>\n",
       "      <td>...</td>\n",
       "      <td>...</td>\n",
       "      <td>...</td>\n",
       "      <td>...</td>\n",
       "      <td>...</td>\n",
       "      <td>...</td>\n",
       "      <td>...</td>\n",
       "      <td>...</td>\n",
       "    </tr>\n",
       "    <tr>\n",
       "      <th>881</th>\n",
       "      <td>0</td>\n",
       "      <td>0</td>\n",
       "      <td>0</td>\n",
       "      <td>7.8958</td>\n",
       "      <td>S</td>\n",
       "      <td>Third</td>\n",
       "      <td>man</td>\n",
       "      <td>True</td>\n",
       "      <td>NaN</td>\n",
       "      <td>Southampton</td>\n",
       "      <td>no</td>\n",
       "      <td>True</td>\n",
       "    </tr>\n",
       "    <tr>\n",
       "      <th>882</th>\n",
       "      <td>0</td>\n",
       "      <td>0</td>\n",
       "      <td>0</td>\n",
       "      <td>10.5167</td>\n",
       "      <td>S</td>\n",
       "      <td>Third</td>\n",
       "      <td>woman</td>\n",
       "      <td>False</td>\n",
       "      <td>NaN</td>\n",
       "      <td>Southampton</td>\n",
       "      <td>no</td>\n",
       "      <td>True</td>\n",
       "    </tr>\n",
       "    <tr>\n",
       "      <th>883</th>\n",
       "      <td>0</td>\n",
       "      <td>0</td>\n",
       "      <td>0</td>\n",
       "      <td>10.5000</td>\n",
       "      <td>S</td>\n",
       "      <td>Second</td>\n",
       "      <td>man</td>\n",
       "      <td>True</td>\n",
       "      <td>NaN</td>\n",
       "      <td>Southampton</td>\n",
       "      <td>no</td>\n",
       "      <td>True</td>\n",
       "    </tr>\n",
       "    <tr>\n",
       "      <th>884</th>\n",
       "      <td>0</td>\n",
       "      <td>0</td>\n",
       "      <td>0</td>\n",
       "      <td>7.0500</td>\n",
       "      <td>S</td>\n",
       "      <td>Third</td>\n",
       "      <td>man</td>\n",
       "      <td>True</td>\n",
       "      <td>NaN</td>\n",
       "      <td>Southampton</td>\n",
       "      <td>no</td>\n",
       "      <td>True</td>\n",
       "    </tr>\n",
       "    <tr>\n",
       "      <th>885</th>\n",
       "      <td>0</td>\n",
       "      <td>0</td>\n",
       "      <td>5</td>\n",
       "      <td>29.1250</td>\n",
       "      <td>Q</td>\n",
       "      <td>Third</td>\n",
       "      <td>woman</td>\n",
       "      <td>False</td>\n",
       "      <td>NaN</td>\n",
       "      <td>Queenstown</td>\n",
       "      <td>no</td>\n",
       "      <td>False</td>\n",
       "    </tr>\n",
       "    <tr>\n",
       "      <th>886</th>\n",
       "      <td>0</td>\n",
       "      <td>0</td>\n",
       "      <td>0</td>\n",
       "      <td>13.0000</td>\n",
       "      <td>S</td>\n",
       "      <td>Second</td>\n",
       "      <td>man</td>\n",
       "      <td>True</td>\n",
       "      <td>NaN</td>\n",
       "      <td>Southampton</td>\n",
       "      <td>no</td>\n",
       "      <td>True</td>\n",
       "    </tr>\n",
       "    <tr>\n",
       "      <th>887</th>\n",
       "      <td>1</td>\n",
       "      <td>0</td>\n",
       "      <td>0</td>\n",
       "      <td>30.0000</td>\n",
       "      <td>S</td>\n",
       "      <td>First</td>\n",
       "      <td>woman</td>\n",
       "      <td>False</td>\n",
       "      <td>B</td>\n",
       "      <td>Southampton</td>\n",
       "      <td>yes</td>\n",
       "      <td>True</td>\n",
       "    </tr>\n",
       "    <tr>\n",
       "      <th>888</th>\n",
       "      <td>0</td>\n",
       "      <td>1</td>\n",
       "      <td>2</td>\n",
       "      <td>23.4500</td>\n",
       "      <td>S</td>\n",
       "      <td>Third</td>\n",
       "      <td>woman</td>\n",
       "      <td>False</td>\n",
       "      <td>NaN</td>\n",
       "      <td>Southampton</td>\n",
       "      <td>no</td>\n",
       "      <td>False</td>\n",
       "    </tr>\n",
       "    <tr>\n",
       "      <th>889</th>\n",
       "      <td>1</td>\n",
       "      <td>0</td>\n",
       "      <td>0</td>\n",
       "      <td>30.0000</td>\n",
       "      <td>C</td>\n",
       "      <td>First</td>\n",
       "      <td>man</td>\n",
       "      <td>True</td>\n",
       "      <td>C</td>\n",
       "      <td>Cherbourg</td>\n",
       "      <td>yes</td>\n",
       "      <td>True</td>\n",
       "    </tr>\n",
       "    <tr>\n",
       "      <th>890</th>\n",
       "      <td>0</td>\n",
       "      <td>0</td>\n",
       "      <td>0</td>\n",
       "      <td>7.7500</td>\n",
       "      <td>Q</td>\n",
       "      <td>Third</td>\n",
       "      <td>man</td>\n",
       "      <td>True</td>\n",
       "      <td>NaN</td>\n",
       "      <td>Queenstown</td>\n",
       "      <td>no</td>\n",
       "      <td>True</td>\n",
       "    </tr>\n",
       "  </tbody>\n",
       "</table>\n",
       "<p>891 rows × 12 columns</p>\n",
       "</div>"
      ],
      "text/plain": [
       "     survived  sibsp  parch     fare embarked   class    who adult_male deck  \\\n",
       "0           0      1      0   7.2500        S   Third    man       True  NaN   \n",
       "1           1      1      0  71.2833        C   First  woman      False    C   \n",
       "2           1      0      0   7.9250        S   Third  woman      False  NaN   \n",
       "3           1      1      0  53.1000        S   First  woman      False    C   \n",
       "4           0      0      0   8.0500        S   Third    man       True  NaN   \n",
       "5           0      0      0   8.4583        Q   Third    man       True  NaN   \n",
       "6           0      0      0  51.8625        S   First    man       True    E   \n",
       "7           0      3      1  21.0750        S   Third  child      False  NaN   \n",
       "8           1      0      2  11.1333        S   Third  woman      False  NaN   \n",
       "9           1      1      0  30.0708        C  Second  child      False  NaN   \n",
       "..        ...    ...    ...      ...      ...     ...    ...        ...  ...   \n",
       "881         0      0      0   7.8958        S   Third    man       True  NaN   \n",
       "882         0      0      0  10.5167        S   Third  woman      False  NaN   \n",
       "883         0      0      0  10.5000        S  Second    man       True  NaN   \n",
       "884         0      0      0   7.0500        S   Third    man       True  NaN   \n",
       "885         0      0      5  29.1250        Q   Third  woman      False  NaN   \n",
       "886         0      0      0  13.0000        S  Second    man       True  NaN   \n",
       "887         1      0      0  30.0000        S   First  woman      False    B   \n",
       "888         0      1      2  23.4500        S   Third  woman      False  NaN   \n",
       "889         1      0      0  30.0000        C   First    man       True    C   \n",
       "890         0      0      0   7.7500        Q   Third    man       True  NaN   \n",
       "\n",
       "     embark_town alive  alone  \n",
       "0    Southampton    no  False  \n",
       "1      Cherbourg   yes  False  \n",
       "2    Southampton   yes   True  \n",
       "3    Southampton   yes  False  \n",
       "4    Southampton    no   True  \n",
       "5     Queenstown    no   True  \n",
       "6    Southampton    no   True  \n",
       "7    Southampton    no  False  \n",
       "8    Southampton   yes  False  \n",
       "9      Cherbourg   yes  False  \n",
       "..           ...   ...    ...  \n",
       "881  Southampton    no   True  \n",
       "882  Southampton    no   True  \n",
       "883  Southampton    no   True  \n",
       "884  Southampton    no   True  \n",
       "885   Queenstown    no  False  \n",
       "886  Southampton    no   True  \n",
       "887  Southampton   yes   True  \n",
       "888  Southampton    no  False  \n",
       "889    Cherbourg   yes   True  \n",
       "890   Queenstown    no   True  \n",
       "\n",
       "[891 rows x 12 columns]"
      ]
     },
     "execution_count": 24,
     "metadata": {},
     "output_type": "execute_result"
    }
   ],
   "source": [
    "## Exclude variables by names\n",
    "variables_to_exclude = [\"pclass\", \"sex\", \"age\"]\n",
    "titanic_df.drop(variables_to_exclude, axis=1)\n"
   ]
  },
  {
   "cell_type": "markdown",
   "metadata": {
    "nbpresent": {
     "id": "f4c35405-a346-43cd-bd55-5bbf479804fa"
    }
   },
   "source": [
    "We can subset the data based on some conditions. For example lets say we want only the samples such that the value of \"age\" is above its mean:"
   ]
  },
  {
   "cell_type": "code",
   "execution_count": null,
   "metadata": {
    "nbpresent": {
     "id": "a1e9b35f-979b-4f8f-943f-d8eb228a4ffe"
    }
   },
   "outputs": [
    {
     "data": {
      "text/plain": [
       "(330, 15)"
      ]
     },
     "execution_count": 25,
     "metadata": {},
     "output_type": "execute_result"
    }
   ],
   "source": [
    "## One condition\n",
    "titanic_subset1 = titanic_df.loc[titanic_df[\"age\"] > titanic_df[\"age\"].mean(), :]\n",
    "titanic_subset1.shape\n"
   ]
  },
  {
   "cell_type": "code",
   "execution_count": null,
   "metadata": {
    "nbpresent": {
     "id": "97e8f30d-cc00-4c59-9d7e-bff56ba5385f"
    }
   },
   "outputs": [
    {
     "data": {
      "text/plain": [
       "(85, 15)"
      ]
     },
     "execution_count": 27,
     "metadata": {},
     "output_type": "execute_result"
    }
   ],
   "source": [
    "## Multiple conditions\n",
    "titanic_subset2 = titanic_df.loc[\n",
    "    (titanic_df[\"age\"] > titanic_df[\"age\"].mean()) & (titanic_df[\"fare\"] < 10), :\n",
    "]\n",
    "titanic_subset2.shape\n"
   ]
  },
  {
   "cell_type": "markdown",
   "metadata": {
    "nbpresent": {
     "id": "c22e7c82-aa14-4448-a114-186877618514"
    }
   },
   "source": [
    "## 3 What is this data about?\n",
    "\n",
    "What categories do we have?"
   ]
  },
  {
   "cell_type": "code",
   "execution_count": null,
   "metadata": {
    "nbpresent": {
     "id": "7befb3d5-0c7c-4430-b051-8da27f3355f3"
    }
   },
   "outputs": [
    {
     "data": {
      "text/plain": [
       "Southampton    644\n",
       "Cherbourg      168\n",
       "Queenstown      77\n",
       "Name: embark_town, dtype: int64"
      ]
     },
     "execution_count": 28,
     "metadata": {},
     "output_type": "execute_result"
    }
   ],
   "source": [
    "## The count\n",
    "titanic_df[\"embark_town\"].value_counts()\n"
   ]
  },
  {
   "cell_type": "code",
   "execution_count": null,
   "metadata": {
    "nbpresent": {
     "id": "15442b79-155c-4153-9808-b31fd285e14d"
    }
   },
   "outputs": [
    {
     "data": {
      "text/plain": [
       "Southampton    0.724409\n",
       "Cherbourg      0.188976\n",
       "Queenstown     0.086614\n",
       "Name: embark_town, dtype: float64"
      ]
     },
     "execution_count": 31,
     "metadata": {},
     "output_type": "execute_result"
    }
   ],
   "source": [
    "## Or normalize\n",
    "titanic_df[\"embark_town\"].value_counts(normalize=True)\n"
   ]
  },
  {
   "cell_type": "markdown",
   "metadata": {
    "nbpresent": {
     "id": "1d9e8d34-2cae-4305-8bab-747b57e56bcf"
    }
   },
   "source": [
    "Lets look at the distribution of \"sex\" attribute per \"who\""
   ]
  },
  {
   "cell_type": "code",
   "execution_count": null,
   "metadata": {
    "nbpresent": {
     "id": "87d48317-9e0d-4094-bdc8-7cdce8add38d"
    }
   },
   "outputs": [
    {
     "data": {
      "text/html": [
       "<div>\n",
       "<table border=\"1\" class=\"dataframe\">\n",
       "  <thead>\n",
       "    <tr style=\"text-align: right;\">\n",
       "      <th>who</th>\n",
       "      <th>child</th>\n",
       "      <th>man</th>\n",
       "      <th>woman</th>\n",
       "      <th>All</th>\n",
       "    </tr>\n",
       "    <tr>\n",
       "      <th>sex</th>\n",
       "      <th></th>\n",
       "      <th></th>\n",
       "      <th></th>\n",
       "      <th></th>\n",
       "    </tr>\n",
       "  </thead>\n",
       "  <tbody>\n",
       "    <tr>\n",
       "      <th>female</th>\n",
       "      <td>43</td>\n",
       "      <td>0</td>\n",
       "      <td>271</td>\n",
       "      <td>314</td>\n",
       "    </tr>\n",
       "    <tr>\n",
       "      <th>male</th>\n",
       "      <td>40</td>\n",
       "      <td>537</td>\n",
       "      <td>0</td>\n",
       "      <td>577</td>\n",
       "    </tr>\n",
       "    <tr>\n",
       "      <th>All</th>\n",
       "      <td>83</td>\n",
       "      <td>537</td>\n",
       "      <td>271</td>\n",
       "      <td>891</td>\n",
       "    </tr>\n",
       "  </tbody>\n",
       "</table>\n",
       "</div>"
      ],
      "text/plain": [
       "who     child  man  woman  All\n",
       "sex                           \n",
       "female     43    0    271  314\n",
       "male       40  537      0  577\n",
       "All        83  537    271  891"
      ]
     },
     "execution_count": 33,
     "metadata": {},
     "output_type": "execute_result"
    }
   ],
   "source": [
    "pd.crosstab(titanic_df[\"sex\"], titanic_df[\"who\"], margins=True)\n"
   ]
  },
  {
   "cell_type": "code",
   "execution_count": null,
   "metadata": {
    "nbpresent": {
     "id": "a47d3df9-8c6d-4ab0-9418-f378bafb79dd"
    }
   },
   "outputs": [
    {
     "data": {
      "text/html": [
       "<div>\n",
       "<table border=\"1\" class=\"dataframe\">\n",
       "  <thead>\n",
       "    <tr style=\"text-align: right;\">\n",
       "      <th>who</th>\n",
       "      <th>child</th>\n",
       "      <th>man</th>\n",
       "      <th>woman</th>\n",
       "      <th>All</th>\n",
       "    </tr>\n",
       "    <tr>\n",
       "      <th>sex</th>\n",
       "      <th></th>\n",
       "      <th></th>\n",
       "      <th></th>\n",
       "      <th></th>\n",
       "    </tr>\n",
       "  </thead>\n",
       "  <tbody>\n",
       "    <tr>\n",
       "      <th>female</th>\n",
       "      <td>0.518072</td>\n",
       "      <td>0.0</td>\n",
       "      <td>1.0</td>\n",
       "      <td>0.352413</td>\n",
       "    </tr>\n",
       "    <tr>\n",
       "      <th>male</th>\n",
       "      <td>0.481928</td>\n",
       "      <td>1.0</td>\n",
       "      <td>0.0</td>\n",
       "      <td>0.647587</td>\n",
       "    </tr>\n",
       "  </tbody>\n",
       "</table>\n",
       "</div>"
      ],
      "text/plain": [
       "who        child  man  woman       All\n",
       "sex                                   \n",
       "female  0.518072  0.0    1.0  0.352413\n",
       "male    0.481928  1.0    0.0  0.647587"
      ]
     },
     "execution_count": 34,
     "metadata": {},
     "output_type": "execute_result"
    }
   ],
   "source": [
    "## Normalized\n",
    "pd.crosstab(titanic_df[\"sex\"], titanic_df[\"who\"], margins=True, normalize=1)\n"
   ]
  },
  {
   "cell_type": "code",
   "execution_count": null,
   "metadata": {
    "nbpresent": {
     "id": "70cc3baf-d662-4cd3-b82a-76371a9e353a"
    }
   },
   "outputs": [
    {
     "data": {
      "text/html": [
       "<div>\n",
       "<table border=\"1\" class=\"dataframe\">\n",
       "  <thead>\n",
       "    <tr style=\"text-align: right;\">\n",
       "      <th>who</th>\n",
       "      <th>child</th>\n",
       "      <th>man</th>\n",
       "      <th>woman</th>\n",
       "    </tr>\n",
       "    <tr>\n",
       "      <th>sex</th>\n",
       "      <th></th>\n",
       "      <th></th>\n",
       "      <th></th>\n",
       "    </tr>\n",
       "  </thead>\n",
       "  <tbody>\n",
       "    <tr>\n",
       "      <th>female</th>\n",
       "      <td>0.136943</td>\n",
       "      <td>0.000000</td>\n",
       "      <td>0.863057</td>\n",
       "    </tr>\n",
       "    <tr>\n",
       "      <th>male</th>\n",
       "      <td>0.069324</td>\n",
       "      <td>0.930676</td>\n",
       "      <td>0.000000</td>\n",
       "    </tr>\n",
       "    <tr>\n",
       "      <th>All</th>\n",
       "      <td>0.093154</td>\n",
       "      <td>0.602694</td>\n",
       "      <td>0.304153</td>\n",
       "    </tr>\n",
       "  </tbody>\n",
       "</table>\n",
       "</div>"
      ],
      "text/plain": [
       "who        child       man     woman\n",
       "sex                                 \n",
       "female  0.136943  0.000000  0.863057\n",
       "male    0.069324  0.930676  0.000000\n",
       "All     0.093154  0.602694  0.304153"
      ]
     },
     "execution_count": 35,
     "metadata": {},
     "output_type": "execute_result"
    }
   ],
   "source": [
    "## Normalized\n",
    "pd.crosstab(titanic_df[\"sex\"], titanic_df[\"who\"], margins=True, normalize=0)\n"
   ]
  },
  {
   "cell_type": "code",
   "execution_count": null,
   "metadata": {
    "nbpresent": {
     "id": "e4841bdd-35f1-4ee3-b6af-f90e04e2a99b"
    }
   },
   "outputs": [
    {
     "data": {
      "text/plain": [
       "sex\n",
       "female    1.0\n",
       "male      1.0\n",
       "All       1.0\n",
       "dtype: float64"
      ]
     },
     "execution_count": 36,
     "metadata": {},
     "output_type": "execute_result"
    }
   ],
   "source": [
    "## The sum of each column has to be 1\n",
    "pd.crosstab(titanic_df[\"sex\"], titanic_df[\"who\"], margins=True, normalize=0).sum(1)\n"
   ]
  },
  {
   "cell_type": "markdown",
   "metadata": {
    "nbpresent": {
     "id": "6582e167-f964-4f9d-b00d-0557128db34b"
    }
   },
   "source": [
    "It can be interesting to look at some values by \"class\". For example:"
   ]
  },
  {
   "cell_type": "code",
   "execution_count": null,
   "metadata": {
    "nbpresent": {
     "id": "5e6084ef-f7ad-4142-8f98-b4bedd7f0332"
    }
   },
   "outputs": [
    {
     "data": {
      "text/plain": [
       "class\n",
       "First     84.154687\n",
       "Second    20.662183\n",
       "Third     13.675550\n",
       "Name: fare, dtype: float64"
      ]
     },
     "execution_count": 37,
     "metadata": {},
     "output_type": "execute_result"
    }
   ],
   "source": [
    "## mean\n",
    "titanic_df.groupby(\"class\")[\"fare\"].mean()\n"
   ]
  },
  {
   "cell_type": "code",
   "execution_count": null,
   "metadata": {
    "nbpresent": {
     "id": "8e93124b-e2c3-4572-b5f9-c057fcbbd241"
    }
   },
   "outputs": [
    {
     "data": {
      "text/plain": [
       "class\n",
       "First     78.380373\n",
       "Second    13.417399\n",
       "Third     11.778142\n",
       "Name: fare, dtype: float64"
      ]
     },
     "execution_count": 39,
     "metadata": {},
     "output_type": "execute_result"
    }
   ],
   "source": [
    "## Standard deviation\n",
    "titanic_df.groupby(\"class\")[\"fare\"].std()\n"
   ]
  },
  {
   "cell_type": "markdown",
   "metadata": {
    "nbpresent": {
     "id": "40c84236-3791-4f51-9312-588bb752e911"
    }
   },
   "source": [
    "We can get some visual help to look at the data"
   ]
  },
  {
   "cell_type": "code",
   "execution_count": 23,
   "metadata": {
    "nbpresent": {
     "id": "00f9217c-f98d-4f8b-b2a0-cfab2a2faa50"
    }
   },
   "outputs": [
    {
     "data": {
      "image/png": "[encoded data removed]",
      "text/plain": [
       "<Figure size 432x288 with 1 Axes>"
      ]
     },
     "metadata": {},
     "output_type": "display_data"
    }
   ],
   "source": [
    "import matplotlib.pyplot as plt\n",
    "\n",
    "plt.style.use(\"seaborn-whitegrid\")\n",
    "\n",
    "titanic_df[\"age\"].plot(kind=\"hist\", bins=30)\n"
   ]
  },
  {
   "cell_type": "code",
   "execution_count": 28,
   "metadata": {
    "nbpresent": {
     "id": "3e75536b-96c7-4e8a-a53d-088c0869b42f"
    }
   },
   "outputs": [
    {
     "data": {
      "image/png": "[encoded data removed]",
      "text/plain": [
       "<Figure size 432x288 with 1 Axes>"
      ]
     },
     "metadata": {},
     "output_type": "display_data"
    }
   ],
   "source": [
    "titanic_df[\"age\"].hist(width=5, density=True)\n"
   ]
  },
  {
   "cell_type": "markdown",
   "metadata": {
    "collapsed": true,
    "nbpresent": {
     "id": "73725e71-db24-4bbf-ad39-6a23b5eb93ed"
    }
   },
   "source": [
    "##  Appendix: Important things with python"
   ]
  },
  {
   "cell_type": "code",
   "execution_count": null,
   "metadata": {},
   "outputs": [
    {
     "data": {
      "text/plain": [
       "[0, 1, 4, 9, 16, 25, 36, 49, 64, 81]"
      ]
     },
     "execution_count": 3,
     "metadata": {},
     "output_type": "execute_result"
    }
   ],
   "source": [
    "## list comprehension\n",
    "list_int = [1, 2, 3]\n",
    "list2 = [i**2 for i in range(10)]\n",
    "list2\n"
   ]
  },
  {
   "cell_type": "code",
   "execution_count": null,
   "metadata": {},
   "outputs": [
    {
     "data": {
      "text/plain": [
       "{'col0': 0,\n",
       " 'col1': 1,\n",
       " 'col2': 4,\n",
       " 'col3': 9,\n",
       " 'col4': 16,\n",
       " 'col5': 25,\n",
       " 'col6': 36,\n",
       " 'col7': 49,\n",
       " 'col8': 64,\n",
       " 'col9': 81}"
      ]
     },
     "execution_count": 9,
     "metadata": {},
     "output_type": "execute_result"
    }
   ],
   "source": [
    "# We can create dictionary\n",
    "dict1 = {\"col\" + str(i): i**2 for i in range(10)}\n",
    "dict1\n"
   ]
  },
  {
   "cell_type": "code",
   "execution_count": null,
   "metadata": {},
   "outputs": [
    {
     "data": {
      "text/plain": [
       "col0     0\n",
       "col1     1\n",
       "col2     4\n",
       "col3     9\n",
       "col4    16\n",
       "col5    25\n",
       "col6    36\n",
       "col7    49\n",
       "col8    64\n",
       "col9    81\n",
       "dtype: int64"
      ]
     },
     "execution_count": 14,
     "metadata": {},
     "output_type": "execute_result"
    }
   ],
   "source": [
    "import pandas as pd\n",
    "\n",
    "pd.Series(dict1)\n"
   ]
  },
  {
   "cell_type": "code",
   "execution_count": null,
   "metadata": {},
   "outputs": [
    {
     "name": "stdout",
     "output_type": "stream",
     "text": [
      "col0 0\n",
      "col1 1\n",
      "col2 4\n",
      "col3 9\n",
      "col4 16\n",
      "col5 25\n",
      "col6 36\n",
      "col7 49\n",
      "col8 64\n",
      "col9 81\n"
     ]
    }
   ],
   "source": [
    "for k, v in dict1.items():\n",
    "    print(k, v)\n"
   ]
  },
  {
   "cell_type": "code",
   "execution_count": null,
   "metadata": {},
   "outputs": [
    {
     "data": {
      "text/plain": [
       "9"
      ]
     },
     "execution_count": 5,
     "metadata": {},
     "output_type": "execute_result"
    }
   ],
   "source": [
    "## Function\n",
    "def some_function(x, y=2):\n",
    "    return x + y\n",
    "\n",
    "\n",
    "some_function(3, 6)\n"
   ]
  },
  {
   "cell_type": "code",
   "execution_count": null,
   "metadata": {},
   "outputs": [
    {
     "name": "stdout",
     "output_type": "stream",
     "text": [
      "4\n",
      "2\n",
      "['A', 'B', 2]\n",
      "['A', 'B']\n"
     ]
    }
   ],
   "source": [
    "## Be careful\n",
    "x = 2\n",
    "\n",
    "\n",
    "def some_function(x):\n",
    "    x += 2\n",
    "    return x\n",
    "\n",
    "\n",
    "print(some_function(x))\n",
    "print(x)\n",
    "\n",
    "some_list = [\"A\", \"B\"]\n",
    "\n",
    "\n",
    "def some_other_function(x):\n",
    "    x += [2]\n",
    "    return x\n",
    "\n",
    "\n",
    "print(some_other_function(some_list.copy()))\n",
    "print(some_list)\n"
   ]
  },
  {
   "cell_type": "code",
   "execution_count": null,
   "metadata": {},
   "outputs": [
    {
     "data": {
      "text/plain": [
       "12"
      ]
     },
     "execution_count": 4,
     "metadata": {},
     "output_type": "execute_result"
    }
   ],
   "source": [
    "## class\n",
    "class MyClass:\n",
    "    def __init__(self, y):\n",
    "        self.y = y\n",
    "\n",
    "    def some_method(self, x):\n",
    "        return some_function(x) + self.y\n",
    "\n",
    "\n",
    "my_class = MyClass(y=12)\n",
    "\n",
    "my_class.some_method(3)\n",
    "my_class.y\n"
   ]
  },
  {
   "cell_type": "code",
   "execution_count": null,
   "metadata": {
    "scrolled": true
   },
   "outputs": [
    {
     "name": "stdout",
     "output_type": "stream",
     "text": [
      "CPU times: user 2 µs, sys: 0 ns, total: 2 µs\n",
      "Wall time: 4.77 µs\n"
     ]
    },
    {
     "data": {
      "text/plain": [
       "array([ 0.7616351 ,  0.75413879,  0.99067346,  0.93884727,  0.3393607 ,\n",
       "        0.13622013,  0.75938366,  0.28797531,  0.89831012,  0.27177984,\n",
       "        0.55392695,  0.00423001,  0.05016105,  0.9414044 ,  0.37053838,\n",
       "        0.2633717 ,  0.70371622,  0.11089741,  0.41129192,  0.4254518 ,\n",
       "        0.03083533,  0.89348919,  0.29817978,  0.95647455,  0.56070641,\n",
       "        0.16196787,  0.24518305,  0.24499618,  0.7660315 ,  0.56993332,\n",
       "        0.92952437,  0.31121644,  0.04869645,  0.16331154,  0.84384623,\n",
       "        0.69317426,  0.95453068,  0.48706113,  0.23950263,  0.86899884,\n",
       "        0.75447805,  0.65803537,  0.76772156,  0.44522174,  0.60260959,\n",
       "        0.70160716,  0.47704705,  0.23146793,  0.19372619,  0.98644805,\n",
       "        0.4521747 ,  0.3235188 ,  0.5613098 ,  0.7439955 ,  0.89102379,\n",
       "        0.23080696,  0.61689587,  0.47712001,  0.35429129,  0.54037053,\n",
       "        0.898664  ,  0.54334474,  0.90071535,  0.30923281,  0.82296553,\n",
       "        0.27766685,  0.71213236,  0.36487461,  0.07688266,  0.82975301,\n",
       "        0.43897054,  0.38122622,  0.83857021,  0.31304706,  0.00195636,\n",
       "        0.49029172,  0.21809503,  0.30670448,  0.50014468,  0.76080978,\n",
       "        0.99546454,  0.4969328 ,  0.11350988,  0.46734903,  0.01278474,\n",
       "        0.58284433,  0.59810182,  0.95630257,  0.74915314,  0.01677781,\n",
       "        0.84815365,  0.03433416,  0.18452321,  0.51974447,  0.13716079,\n",
       "        0.9053564 ,  0.53797377,  0.05897203,  0.30963237,  0.22377017,\n",
       "        0.75608794,  0.84969489,  0.54902035,  0.74010155,  0.03341122,\n",
       "        0.89753482,  0.14177429,  0.7783309 ,  0.27490294,  0.51208408,\n",
       "        0.5271158 ,  0.1157529 ,  0.89028465,  0.19788138,  0.42781649,\n",
       "        0.47758136,  0.51006922,  0.89576616,  0.38927084,  0.74410363,\n",
       "        0.3896747 ,  0.43342932,  0.55570726,  0.76152814,  0.27803375,\n",
       "        0.89083593,  0.7016861 ,  0.45407525,  0.44033167,  0.78671252,\n",
       "        0.89583027,  0.79006365,  0.43273761,  0.57337001,  0.19522018,\n",
       "        0.2403391 ,  0.21372488,  0.7478635 ,  0.48947834,  0.33880387,\n",
       "        0.8838316 ,  0.11684047,  0.91328534,  0.79807908,  0.35450151,\n",
       "        0.64597522,  0.03657945,  0.32951978,  0.79969206,  0.7465234 ,\n",
       "        0.20090036,  0.56259103,  0.99180492,  0.20237279,  0.70257788,\n",
       "        0.6597188 ,  0.50812123,  0.42317299,  0.83577632,  0.00495097,\n",
       "        0.48254588,  0.04310623,  0.33388218,  0.25093064,  0.74301568,\n",
       "        0.72337659,  0.11406786,  0.68272689,  0.37885932,  0.77889343,\n",
       "        0.4516944 ,  0.65927768,  0.99801095,  0.54914579,  0.56188482,\n",
       "        0.62516892,  0.04974191,  0.05602795,  0.3573146 ,  0.58587806,\n",
       "        0.48898957,  0.20284421,  0.52474067,  0.77348551,  0.87101167,\n",
       "        0.3954935 ,  0.73658009,  0.35683285,  0.90519694,  0.4009007 ,\n",
       "        0.93937047,  0.69746856,  0.57328197,  0.41124722,  0.83025482,\n",
       "        0.19425114,  0.96117673,  0.37248607,  0.52568032,  0.96303051])"
      ]
     },
     "execution_count": 13,
     "metadata": {},
     "output_type": "execute_result"
    }
   ],
   "source": [
    "## timing\n",
    "%time\n",
    "import numpy as np\n",
    "x = np.random.rand(200)\n",
    "x"
   ]
  },
  {
   "cell_type": "code",
   "execution_count": 29,
   "metadata": {},
   "outputs": [
    {
     "name": "stdout",
     "output_type": "stream",
     "text": [
      "2.18 µs ± 538 ns per loop (mean ± std. dev. of 7 runs, 1,000,000 loops each)\n"
     ]
    }
   ],
   "source": [
    "%timeit x = np.random.rand(200)"
   ]
  },
  {
   "cell_type": "markdown",
   "metadata": {
    "collapsed": true
   },
   "source": [
    "Questions:\n",
    "- What is the embarquement town that has the highest number of 3th class passengers?\n",
    "- What particular features characterised the people that were the most likely to survived"
   ]
  }
 ],
 "metadata": {
  "anaconda-cloud": {},
  "interpreter": {
   "hash": "4b1a04c0e42544f8dc6ce614a59eed42605ea39ccb881052ce0bf2cc7ca87199"
  },
  "kernelspec": {
   "display_name": "Python 3.10.4 ('.pytest_book')",
   "language": "python",
   "name": "python3"
  },
  "language_info": {
   "codemirror_mode": {
    "name": "ipython",
    "version": 3
   },
   "file_extension": ".py",
   "mimetype": "text/x-python",
   "name": "python",
   "nbconvert_exporter": "python",
   "pygments_lexer": "ipython3",
   "version": "3.10.4"
  },
  "nbpresent": {
   "slides": {
    "0491fb35-c951-4260-b621-87bdd496f6dd": {
     "id": "0491fb35-c951-4260-b621-87bdd496f6dd",
     "prev": "e513ad7b-3000-4119-a76f-46e6b2dde39b",
     "regions": {
      "53a02942-c437-4c66-9942-18fdd599f06d": {
       "attrs": {
        "height": 0.8,
        "width": 0.8,
        "x": 0.1,
        "y": 0.1
       },
       "content": {
        "cell": "30db8f9c-092b-494e-ba07-3b4941bbf081",
        "part": "whole"
       },
       "id": "53a02942-c437-4c66-9942-18fdd599f06d"
      }
     }
    },
    "0b527092-4e02-426f-a2bf-05935f6330fc": {
     "id": "0b527092-4e02-426f-a2bf-05935f6330fc",
     "prev": "71b15300-2d92-40ef-a1ec-5eb0f04f8418",
     "regions": {
      "8a5fcad1-9965-49ef-9da6-efdb00b3ae26": {
       "attrs": {
        "height": 0.8,
        "width": 0.8,
        "x": 0.1,
        "y": 0.1
       },
       "content": {
        "cell": "6582e167-f964-4f9d-b00d-0557128db34b",
        "part": "whole"
       },
       "id": "8a5fcad1-9965-49ef-9da6-efdb00b3ae26"
      }
     }
    },
    "11578c67-1d35-4005-9d01-2e1c4136509f": {
     "id": "11578c67-1d35-4005-9d01-2e1c4136509f",
     "prev": null,
     "regions": {
      "98304d4b-7908-4a7c-9dd6-2788b10d4503": {
       "attrs": {
        "height": 0.8,
        "width": 0.8,
        "x": 0.13992015968063876,
        "y": 0.060966954978931044
       },
       "content": {
        "cell": "3798affd-1e44-40d6-a64b-8ff1d8a1ff45",
        "part": "whole"
       },
       "id": "98304d4b-7908-4a7c-9dd6-2788b10d4503"
      }
     }
    },
    "168aac56-7816-48e3-bd67-eb3b698f64fc": {
     "id": "168aac56-7816-48e3-bd67-eb3b698f64fc",
     "prev": "83b7f18d-687e-4fc0-87e2-3fc10f8ce32d",
     "regions": {
      "bc548a7e-8000-400d-afb5-a962ffbdcd7f": {
       "attrs": {
        "height": 0.8,
        "width": 0.8,
        "x": 0.1,
        "y": 0.1
       },
       "content": {
        "cell": "a19a0cdb-d2d5-49f9-82be-2d0595485015",
        "part": "whole"
       },
       "id": "bc548a7e-8000-400d-afb5-a962ffbdcd7f"
      }
     }
    },
    "1d8e939c-1f3d-4c2a-848e-6925b312d10c": {
     "id": "1d8e939c-1f3d-4c2a-848e-6925b312d10c",
     "prev": "9d043fdf-2586-4ad5-b9a9-baae1da0d6f6",
     "regions": {
      "57c11ef6-e316-4fd5-9677-3cf71fc9c721": {
       "attrs": {
        "height": 0.8,
        "width": 0.8,
        "x": 0.1,
        "y": 0.1
       },
       "content": {
        "cell": "bc4ad76a-de33-491a-ba7b-a64774e4f7a8",
        "part": "whole"
       },
       "id": "57c11ef6-e316-4fd5-9677-3cf71fc9c721"
      }
     }
    },
    "217ace61-82a9-40a8-b8c9-3e82832e8651": {
     "id": "217ace61-82a9-40a8-b8c9-3e82832e8651",
     "prev": "b0607aa6-40bb-4eb7-83f8-7ae7b508f502",
     "regions": {
      "08fd1d10-65b2-437b-84ed-202492a255a7": {
       "attrs": {
        "height": 0.8,
        "width": 0.8,
        "x": 0.1,
        "y": 0.1
       },
       "content": {
        "cell": "1d9e8d34-2cae-4305-8bab-747b57e56bcf",
        "part": "whole"
       },
       "id": "08fd1d10-65b2-437b-84ed-202492a255a7"
      }
     }
    },
    "2404a79a-db0e-47e3-abea-781e5d83baac": {
     "id": "2404a79a-db0e-47e3-abea-781e5d83baac",
     "prev": "7eee3234-b5de-46ba-bcb7-c26ecae256ee",
     "regions": {
      "a2f3df68-bd91-442a-a334-a8b18d0e34da": {
       "attrs": {
        "height": 0.8,
        "width": 0.8,
        "x": 0.1,
        "y": 0.1
       },
       "content": {
        "cell": "00f9217c-f98d-4f8b-b2a0-cfab2a2faa50",
        "part": "whole"
       },
       "id": "a2f3df68-bd91-442a-a334-a8b18d0e34da"
      }
     }
    },
    "3c737ce2-9de5-4cb8-8d41-c7105bc2e66b": {
     "id": "3c737ce2-9de5-4cb8-8d41-c7105bc2e66b",
     "prev": "d49b370e-4850-4fea-b43a-78f8721e9f1c",
     "regions": {
      "2b722bf1-79e0-4097-9308-231cbde45b82": {
       "attrs": {
        "height": 0.8,
        "width": 0.8,
        "x": 0.1,
        "y": 0.1
       },
       "content": {
        "cell": "5ac76275-f8ec-4195-9cef-20af961c3601",
        "part": "whole"
       },
       "id": "2b722bf1-79e0-4097-9308-231cbde45b82"
      }
     }
    },
    "3e74c3c5-ffb7-4013-9ce2-4ea38a0e54bd": {
     "id": "3e74c3c5-ffb7-4013-9ce2-4ea38a0e54bd",
     "prev": "ec05ef0f-f2fc-44c8-b74c-e25dd30957e2",
     "regions": {
      "2140cb4d-4e71-45c5-aca4-da9fc8db7a35": {
       "attrs": {
        "height": 0.8,
        "width": 0.8,
        "x": 0.1,
        "y": 0.1
       },
       "content": {
        "cell": "3ab9a06e-67bb-4d1e-8f9a-1f006ae5b188",
        "part": "whole"
       },
       "id": "2140cb4d-4e71-45c5-aca4-da9fc8db7a35"
      }
     }
    },
    "4477bd7d-2027-40c0-8491-205b37433b72": {
     "id": "4477bd7d-2027-40c0-8491-205b37433b72",
     "prev": "aa86e6bf-36ae-4d04-b062-8e82d67b64b7",
     "regions": {
      "46ed8357-2e83-45ba-b698-9891bffd2f3d": {
       "attrs": {
        "height": 0.8,
        "width": 0.8,
        "x": 0.1,
        "y": 0.1
       },
       "content": {
        "cell": "8e93124b-e2c3-4572-b5f9-c057fcbbd241",
        "part": "whole"
       },
       "id": "46ed8357-2e83-45ba-b698-9891bffd2f3d"
      }
     }
    },
    "4d8b8498-e601-4222-b5f0-f983d5aad506": {
     "id": "4d8b8498-e601-4222-b5f0-f983d5aad506",
     "prev": "2404a79a-db0e-47e3-abea-781e5d83baac",
     "regions": {
      "397d1d76-ebf5-434e-8613-322217c36387": {
       "attrs": {
        "height": 0.8,
        "width": 0.8,
        "x": 0.1,
        "y": 0.1
       },
       "content": {
        "cell": "3e75536b-96c7-4e8a-a53d-088c0869b42f",
        "part": "whole"
       },
       "id": "397d1d76-ebf5-434e-8613-322217c36387"
      }
     }
    },
    "599ab1bb-f94d-47bc-a5da-5046111360aa": {
     "id": "599ab1bb-f94d-47bc-a5da-5046111360aa",
     "prev": "936e3a4e-d513-4d8a-9e9d-6a9a2c00e5de",
     "regions": {
      "fb2ab849-1699-4590-b87a-4c9351521bb7": {
       "attrs": {
        "height": 0.8,
        "width": 0.8,
        "x": 0.1,
        "y": 0.1
       },
       "content": {
        "cell": "5f63fe8b-b2de-4f2f-87c2-806256e67308",
        "part": "whole"
       },
       "id": "fb2ab849-1699-4590-b87a-4c9351521bb7"
      }
     }
    },
    "5a9fecee-1011-461e-aa16-529d104c307f": {
     "id": "5a9fecee-1011-461e-aa16-529d104c307f",
     "prev": "a09ef2c5-9ed5-493a-9461-01da606056aa",
     "regions": {
      "3f0ebf70-45fd-4664-ae6f-e5aec6dd9312": {
       "attrs": {
        "height": 0.8,
        "width": 0.8,
        "x": 0.1,
        "y": 0.1
       },
       "content": {
        "cell": "76f4346c-d4a4-4dcc-83e1-6591db9c685b",
        "part": "whole"
       },
       "id": "3f0ebf70-45fd-4664-ae6f-e5aec6dd9312"
      }
     }
    },
    "5edf5a21-1432-4815-893e-38ebd8471dd3": {
     "id": "5edf5a21-1432-4815-893e-38ebd8471dd3",
     "prev": "a656eccf-e7de-4c9e-ad86-1978a803fa09",
     "regions": {
      "8186cc55-a04e-40b8-a405-f3d8a28efb16": {
       "attrs": {
        "height": 0.8,
        "width": 0.8,
        "x": 0.1,
        "y": 0.1
       },
       "content": {
        "cell": "36056d1c-b857-4873-af27-5202a62439e3",
        "part": "whole"
       },
       "id": "8186cc55-a04e-40b8-a405-f3d8a28efb16"
      }
     }
    },
    "71b15300-2d92-40ef-a1ec-5eb0f04f8418": {
     "id": "71b15300-2d92-40ef-a1ec-5eb0f04f8418",
     "prev": "befadf24-f588-4f11-b46b-3be1765f4491",
     "regions": {
      "5fea586d-b52c-444e-a779-09ba7625aa3d": {
       "attrs": {
        "height": 0.8,
        "width": 0.8,
        "x": 0.1,
        "y": 0.1
       },
       "content": {
        "cell": "e4841bdd-35f1-4ee3-b6af-f90e04e2a99b",
        "part": "whole"
       },
       "id": "5fea586d-b52c-444e-a779-09ba7625aa3d"
      }
     }
    },
    "729cbda3-0595-4ed8-8f00-cdf827efb6ed": {
     "id": "729cbda3-0595-4ed8-8f00-cdf827efb6ed",
     "prev": "d260e933-531c-482f-995c-8ee80df04aa1",
     "regions": {
      "8ca8112b-08bb-4b1c-ab3b-72693c49916a": {
       "attrs": {
        "height": 0.8,
        "width": 0.8,
        "x": 0.1,
        "y": 0.1
       },
       "content": {
        "cell": "f4c35405-a346-43cd-bd55-5bbf479804fa",
        "part": "whole"
       },
       "id": "8ca8112b-08bb-4b1c-ab3b-72693c49916a"
      }
     }
    },
    "7633eefa-c33d-4b8c-b947-18756d62520b": {
     "id": "7633eefa-c33d-4b8c-b947-18756d62520b",
     "prev": "a07164e5-e8c1-4971-a79d-3c7f32756019",
     "regions": {
      "3f5c99b9-b1d6-4d5c-98e8-40f3227c5dbc": {
       "attrs": {
        "height": 0.8,
        "width": 0.8,
        "x": 0.1,
        "y": 0.1
       },
       "content": {
        "cell": "7617ea80-e6ba-469e-9ab5-826105bc74f1",
        "part": "whole"
       },
       "id": "3f5c99b9-b1d6-4d5c-98e8-40f3227c5dbc"
      }
     }
    },
    "7ecba52c-dce1-45b7-b5d2-469e41740b1d": {
     "id": "7ecba52c-dce1-45b7-b5d2-469e41740b1d",
     "prev": "4d8b8498-e601-4222-b5f0-f983d5aad506",
     "regions": {
      "07a566bb-8291-41d7-91fb-2036f4a1b463": {
       "attrs": {
        "height": 0.8,
        "width": 0.8,
        "x": 0.1,
        "y": 0.1
       },
       "content": {
        "cell": "73725e71-db24-4bbf-ad39-6a23b5eb93ed",
        "part": "whole"
       },
       "id": "07a566bb-8291-41d7-91fb-2036f4a1b463"
      }
     }
    },
    "7eee3234-b5de-46ba-bcb7-c26ecae256ee": {
     "id": "7eee3234-b5de-46ba-bcb7-c26ecae256ee",
     "prev": "4477bd7d-2027-40c0-8491-205b37433b72",
     "regions": {
      "423d0c0f-7f05-4fa9-9033-24902c22bfd5": {
       "attrs": {
        "height": 0.8,
        "width": 0.8,
        "x": 0.1,
        "y": 0.1
       },
       "content": {
        "cell": "40c84236-3791-4f51-9312-588bb752e911",
        "part": "whole"
       },
       "id": "423d0c0f-7f05-4fa9-9033-24902c22bfd5"
      }
     }
    },
    "83b7f18d-687e-4fc0-87e2-3fc10f8ce32d": {
     "id": "83b7f18d-687e-4fc0-87e2-3fc10f8ce32d",
     "prev": "9b506333-e6ab-4873-97fe-45dc3934b35e",
     "regions": {
      "1d5d63cb-eee7-4eeb-9b55-1aa60677423e": {
       "attrs": {
        "height": 0.8,
        "width": 0.8,
        "x": 0.1,
        "y": 0.1
       },
       "content": {
        "cell": "e9c48f16-3edc-4dec-9580-5198d397e396",
        "part": "whole"
       },
       "id": "1d5d63cb-eee7-4eeb-9b55-1aa60677423e"
      }
     }
    },
    "848b9878-e46c-455b-9d14-63c1ea018013": {
     "id": "848b9878-e46c-455b-9d14-63c1ea018013",
     "prev": "cb8f3151-f56f-41b2-92c4-fe059b86554f",
     "regions": {
      "a9171abc-6bef-4911-931f-19c595cb998d": {
       "attrs": {
        "height": 0.8,
        "width": 0.8,
        "x": 0.1,
        "y": 0.1
       },
       "content": {
        "cell": "a47d3df9-8c6d-4ab0-9418-f378bafb79dd",
        "part": "whole"
       },
       "id": "a9171abc-6bef-4911-931f-19c595cb998d"
      }
     }
    },
    "893ed108-9d2e-4b45-ac0c-9d82ac096779": {
     "id": "893ed108-9d2e-4b45-ac0c-9d82ac096779",
     "prev": "ac4beb4d-904e-4d58-a8e2-792aa87fb88d",
     "regions": {
      "9e65288f-beec-4bcd-92ea-03cdb9ae5c9d": {
       "attrs": {
        "height": 0.8,
        "width": 0.8,
        "x": 0.1,
        "y": 0.1
       },
       "content": {
        "cell": "c22e7c82-aa14-4448-a114-186877618514",
        "part": "whole"
       },
       "id": "9e65288f-beec-4bcd-92ea-03cdb9ae5c9d"
      }
     }
    },
    "89a94e53-9db1-406f-be1c-560c2dc98923": {
     "id": "89a94e53-9db1-406f-be1c-560c2dc98923",
     "prev": "3e74c3c5-ffb7-4013-9ce2-4ea38a0e54bd",
     "regions": {
      "fa7ac51b-4e54-4e13-82ad-2a761ab75dc0": {
       "attrs": {
        "height": 0.8,
        "width": 0.8,
        "x": 0.1,
        "y": 0.1
       },
       "content": {
        "cell": "07046748-1b65-4206-a9dd-da9917ab1013",
        "part": "whole"
       },
       "id": "fa7ac51b-4e54-4e13-82ad-2a761ab75dc0"
      }
     }
    },
    "936e3a4e-d513-4d8a-9e9d-6a9a2c00e5de": {
     "id": "936e3a4e-d513-4d8a-9e9d-6a9a2c00e5de",
     "prev": "3c737ce2-9de5-4cb8-8d41-c7105bc2e66b",
     "regions": {
      "46213ac3-05e3-402b-b8a8-f78c0e511862": {
       "attrs": {
        "height": 0.8,
        "width": 0.8,
        "x": 0.1,
        "y": 0.1
       },
       "content": {
        "cell": "7146adb7-8bae-4d21-99d5-6f6fb688c036",
        "part": "whole"
       },
       "id": "46213ac3-05e3-402b-b8a8-f78c0e511862"
      }
     }
    },
    "9683c600-9141-4449-91b1-172218f4600b": {
     "id": "9683c600-9141-4449-91b1-172218f4600b",
     "prev": "1d8e939c-1f3d-4c2a-848e-6925b312d10c",
     "regions": {
      "878ebfde-e9d9-47b9-90da-5b635c5be1e2": {
       "attrs": {
        "height": 0.8,
        "width": 0.8,
        "x": 0.1,
        "y": 0.1
       },
       "content": {
        "cell": "60220c69-4dfc-4351-b017-c318fed2a0dc",
        "part": "whole"
       },
       "id": "878ebfde-e9d9-47b9-90da-5b635c5be1e2"
      }
     }
    },
    "9aa212ce-cb7b-4042-9e0c-8731db8f8e52": {
     "id": "9aa212ce-cb7b-4042-9e0c-8731db8f8e52",
     "prev": "5a9fecee-1011-461e-aa16-529d104c307f",
     "regions": {
      "fded3d11-9938-47e4-b44e-d4a38f1a7778": {
       "attrs": {
        "height": 0.8,
        "width": 0.8,
        "x": 0.1,
        "y": 0.1
       },
       "content": {
        "cell": "427715ba-1963-459b-af6a-519df0f63fcc",
        "part": "whole"
       },
       "id": "fded3d11-9938-47e4-b44e-d4a38f1a7778"
      }
     }
    },
    "9b506333-e6ab-4873-97fe-45dc3934b35e": {
     "id": "9b506333-e6ab-4873-97fe-45dc3934b35e",
     "prev": "ac64bced-b4e4-4c68-bc89-66b5296a9278",
     "regions": {
      "539242da-f118-49de-b31c-3682563571ef": {
       "attrs": {
        "height": 0.8,
        "width": 0.8,
        "x": 0.1,
        "y": 0.1
       },
       "content": {
        "cell": "c9d55b19-eec7-43d9-8671-e6c7de19385a",
        "part": "whole"
       },
       "id": "539242da-f118-49de-b31c-3682563571ef"
      }
     }
    },
    "9ccd63cd-4cf3-4487-b9bc-c398b9658fa3": {
     "id": "9ccd63cd-4cf3-4487-b9bc-c398b9658fa3",
     "prev": "729cbda3-0595-4ed8-8f00-cdf827efb6ed",
     "regions": {
      "c973a336-5163-4653-9e3a-b37d239b8511": {
       "attrs": {
        "height": 0.8,
        "width": 0.8,
        "x": 0.1,
        "y": 0.1
       },
       "content": {
        "cell": "a1e9b35f-979b-4f8f-943f-d8eb228a4ffe",
        "part": "whole"
       },
       "id": "c973a336-5163-4653-9e3a-b37d239b8511"
      }
     }
    },
    "9d043fdf-2586-4ad5-b9a9-baae1da0d6f6": {
     "id": "9d043fdf-2586-4ad5-b9a9-baae1da0d6f6",
     "prev": "599ab1bb-f94d-47bc-a5da-5046111360aa",
     "regions": {
      "23388404-4302-4b03-b502-43789fad70c7": {
       "attrs": {
        "height": 0.8,
        "width": 0.8,
        "x": 0.1,
        "y": 0.1
       },
       "content": {
        "cell": "737fa0a3-9fff-400a-89c0-76c33fb004f0",
        "part": "whole"
       },
       "id": "23388404-4302-4b03-b502-43789fad70c7"
      }
     }
    },
    "a07164e5-e8c1-4971-a79d-3c7f32756019": {
     "id": "a07164e5-e8c1-4971-a79d-3c7f32756019",
     "prev": "11578c67-1d35-4005-9d01-2e1c4136509f",
     "regions": {
      "4adcc9dd-3e29-402e-8bdc-aed920cf40c6": {
       "attrs": {
        "height": 0.8,
        "width": 0.8,
        "x": 0.1,
        "y": 0.1
       },
       "content": {
        "cell": "78d8f39d-7c35-4ee4-b297-aa481f751956",
        "part": "whole"
       },
       "id": "4adcc9dd-3e29-402e-8bdc-aed920cf40c6"
      }
     }
    },
    "a09ef2c5-9ed5-493a-9461-01da606056aa": {
     "id": "a09ef2c5-9ed5-493a-9461-01da606056aa",
     "prev": "7633eefa-c33d-4b8c-b947-18756d62520b",
     "regions": {
      "362d4844-cf69-4a5c-bf98-cc5eb4359109": {
       "attrs": {
        "height": 0.8,
        "width": 0.8,
        "x": 0.1,
        "y": 0.1
       },
       "content": {
        "cell": "72a292b0-2b1a-4bfc-8c07-3012c0d4ae1e",
        "part": "whole"
       },
       "id": "362d4844-cf69-4a5c-bf98-cc5eb4359109"
      }
     }
    },
    "a656eccf-e7de-4c9e-ad86-1978a803fa09": {
     "id": "a656eccf-e7de-4c9e-ad86-1978a803fa09",
     "prev": "9683c600-9141-4449-91b1-172218f4600b",
     "regions": {
      "8e1553de-2dcc-4296-a224-2c9541a57805": {
       "attrs": {
        "height": 0.8,
        "width": 0.8,
        "x": 0.1,
        "y": 0.1
       },
       "content": {
        "cell": "eef6d2b3-b31f-4f19-a63b-7714c8c095f7",
        "part": "whole"
       },
       "id": "8e1553de-2dcc-4296-a224-2c9541a57805"
      }
     }
    },
    "a96a72a0-ce4c-4824-8e3b-7544e0d1ae6d": {
     "id": "a96a72a0-ce4c-4824-8e3b-7544e0d1ae6d",
     "prev": "89a94e53-9db1-406f-be1c-560c2dc98923",
     "regions": {
      "a8d96f74-5370-4cc2-ad69-fe9a36e3038c": {
       "attrs": {
        "height": 0.8,
        "width": 0.8,
        "x": 0.1,
        "y": 0.1
       },
       "content": {
        "cell": "817e6089-8356-4cbb-ad1c-908d15ae1a7d",
        "part": "whole"
       },
       "id": "a8d96f74-5370-4cc2-ad69-fe9a36e3038c"
      }
     }
    },
    "aa86e6bf-36ae-4d04-b062-8e82d67b64b7": {
     "id": "aa86e6bf-36ae-4d04-b062-8e82d67b64b7",
     "prev": "0b527092-4e02-426f-a2bf-05935f6330fc",
     "regions": {
      "79df5d85-93f3-4d9b-a7f3-da6bca455715": {
       "attrs": {
        "height": 0.8,
        "width": 0.8,
        "x": 0.1,
        "y": 0.1
       },
       "content": {
        "cell": "5e6084ef-f7ad-4142-8f98-b4bedd7f0332",
        "part": "whole"
       },
       "id": "79df5d85-93f3-4d9b-a7f3-da6bca455715"
      }
     }
    },
    "ac4beb4d-904e-4d58-a8e2-792aa87fb88d": {
     "id": "ac4beb4d-904e-4d58-a8e2-792aa87fb88d",
     "prev": "9ccd63cd-4cf3-4487-b9bc-c398b9658fa3",
     "regions": {
      "b47f2948-4b8b-4d67-86a0-23d79dc2fcc0": {
       "attrs": {
        "height": 0.8,
        "width": 0.8,
        "x": 0.1,
        "y": 0.1
       },
       "content": {
        "cell": "97e8f30d-cc00-4c59-9d7e-bff56ba5385f",
        "part": "whole"
       },
       "id": "b47f2948-4b8b-4d67-86a0-23d79dc2fcc0"
      }
     }
    },
    "ac64bced-b4e4-4c68-bc89-66b5296a9278": {
     "id": "ac64bced-b4e4-4c68-bc89-66b5296a9278",
     "prev": "df6e7c66-b145-4094-9760-41d91397a901",
     "regions": {
      "bbe9783e-d596-4936-8d00-b3fa014341c5": {
       "attrs": {
        "height": 0.8,
        "width": 0.8,
        "x": 0.1,
        "y": 0.1
       },
       "content": {
        "cell": "dd15f2c3-8c53-419a-9dc7-c691904b4961",
        "part": "whole"
       },
       "id": "bbe9783e-d596-4936-8d00-b3fa014341c5"
      }
     }
    },
    "b0607aa6-40bb-4eb7-83f8-7ae7b508f502": {
     "id": "b0607aa6-40bb-4eb7-83f8-7ae7b508f502",
     "prev": "eb578dc2-f0af-47ba-bd82-3dcdf4a8c304",
     "regions": {
      "eaa9b79e-e1da-42be-9650-4ed9531b3ad6": {
       "attrs": {
        "height": 0.8,
        "width": 0.8,
        "x": 0.1,
        "y": 0.1
       },
       "content": {
        "cell": "15442b79-155c-4153-9808-b31fd285e14d",
        "part": "whole"
       },
       "id": "eaa9b79e-e1da-42be-9650-4ed9531b3ad6"
      }
     }
    },
    "befadf24-f588-4f11-b46b-3be1765f4491": {
     "id": "befadf24-f588-4f11-b46b-3be1765f4491",
     "prev": "848b9878-e46c-455b-9d14-63c1ea018013",
     "regions": {
      "3582743f-ced7-497b-9116-1b2d306f357a": {
       "attrs": {
        "height": 0.8,
        "width": 0.8,
        "x": 0.1,
        "y": 0.1
       },
       "content": {
        "cell": "70cc3baf-d662-4cd3-b82a-76371a9e353a",
        "part": "whole"
       },
       "id": "3582743f-ced7-497b-9116-1b2d306f357a"
      }
     }
    },
    "cb8f3151-f56f-41b2-92c4-fe059b86554f": {
     "id": "cb8f3151-f56f-41b2-92c4-fe059b86554f",
     "prev": "217ace61-82a9-40a8-b8c9-3e82832e8651",
     "regions": {
      "26f9aeaa-eb4a-44ed-b12a-3cbfd4aa5135": {
       "attrs": {
        "height": 0.8,
        "width": 0.8,
        "x": 0.1,
        "y": 0.1
       },
       "content": {
        "cell": "87d48317-9e0d-4094-bdc8-7cdce8add38d",
        "part": "whole"
       },
       "id": "26f9aeaa-eb4a-44ed-b12a-3cbfd4aa5135"
      }
     }
    },
    "d260e933-531c-482f-995c-8ee80df04aa1": {
     "id": "d260e933-531c-482f-995c-8ee80df04aa1",
     "prev": "a96a72a0-ce4c-4824-8e3b-7544e0d1ae6d",
     "regions": {
      "3a2b8f6b-f677-4f9e-bb6c-320775ca55f3": {
       "attrs": {
        "height": 0.8,
        "width": 0.8,
        "x": 0.1,
        "y": 0.1
       },
       "content": {
        "cell": "ad0aeb58-a7fc-4b0d-81d4-36cd19b65047",
        "part": "whole"
       },
       "id": "3a2b8f6b-f677-4f9e-bb6c-320775ca55f3"
      }
     }
    },
    "d49b370e-4850-4fea-b43a-78f8721e9f1c": {
     "id": "d49b370e-4850-4fea-b43a-78f8721e9f1c",
     "prev": "168aac56-7816-48e3-bd67-eb3b698f64fc",
     "regions": {
      "dc50e20f-f1fc-4ddb-8327-d93180055a70": {
       "attrs": {
        "height": 0.8,
        "width": 0.8,
        "x": 0.1,
        "y": 0.1
       },
       "content": {
        "cell": "fbb62754-3598-4b58-b024-b23dba60bfd8",
        "part": "whole"
       },
       "id": "dc50e20f-f1fc-4ddb-8327-d93180055a70"
      }
     }
    },
    "df6e7c66-b145-4094-9760-41d91397a901": {
     "id": "df6e7c66-b145-4094-9760-41d91397a901",
     "prev": "9aa212ce-cb7b-4042-9e0c-8731db8f8e52",
     "regions": {
      "5a416407-6beb-40bd-b929-794076bc7de4": {
       "attrs": {
        "height": 0.8,
        "width": 0.8,
        "x": 0.1,
        "y": 0.1
       },
       "content": {
        "cell": "86bf1499-398f-4413-a1df-45e32a52380d",
        "part": "whole"
       },
       "id": "5a416407-6beb-40bd-b929-794076bc7de4"
      }
     }
    },
    "e513ad7b-3000-4119-a76f-46e6b2dde39b": {
     "id": "e513ad7b-3000-4119-a76f-46e6b2dde39b",
     "prev": "5edf5a21-1432-4815-893e-38ebd8471dd3",
     "regions": {
      "d99245a0-bd8b-40b4-b032-0022324fd786": {
       "attrs": {
        "height": 0.8,
        "width": 0.8,
        "x": 0.1,
        "y": 0.1
       },
       "content": {
        "cell": "047abd23-a5ec-4442-8b47-7f63e7b96a3d",
        "part": "whole"
       },
       "id": "d99245a0-bd8b-40b4-b032-0022324fd786"
      }
     }
    },
    "eb578dc2-f0af-47ba-bd82-3dcdf4a8c304": {
     "id": "eb578dc2-f0af-47ba-bd82-3dcdf4a8c304",
     "prev": "893ed108-9d2e-4b45-ac0c-9d82ac096779",
     "regions": {
      "26216948-0c0c-40e8-ab0c-281fb8550cf8": {
       "attrs": {
        "height": 0.8,
        "width": 0.8,
        "x": 0.1,
        "y": 0.1
       },
       "content": {
        "cell": "7befb3d5-0c7c-4430-b051-8da27f3355f3",
        "part": "whole"
       },
       "id": "26216948-0c0c-40e8-ab0c-281fb8550cf8"
      }
     }
    },
    "ec05ef0f-f2fc-44c8-b74c-e25dd30957e2": {
     "id": "ec05ef0f-f2fc-44c8-b74c-e25dd30957e2",
     "prev": "0491fb35-c951-4260-b621-87bdd496f6dd",
     "regions": {
      "87bbc67c-f00f-4908-8852-fc89c26f797a": {
       "attrs": {
        "height": 0.6,
        "width": 0.8,
        "x": 0.1,
        "y": 0.1
       },
       "id": "87bbc67c-f00f-4908-8852-fc89c26f797a"
      },
      "8d72203c-3b00-405d-a38e-e6c3f29a005a": {
       "attrs": {
        "height": 0.2,
        "width": 0.4,
        "x": 0.5,
        "y": 0.7
       },
       "id": "8d72203c-3b00-405d-a38e-e6c3f29a005a"
      },
      "8dc4e727-8e1f-4e26-a5d2-c8fa5a6e5e09": {
       "attrs": {
        "height": 0.2,
        "width": 0.4,
        "x": 0.1,
        "y": 0.7
       },
       "id": "8dc4e727-8e1f-4e26-a5d2-c8fa5a6e5e09"
      }
     }
    }
   },
   "themes": {
    "default": "a403a081-d3f1-4689-976d-7e336b2e4d31",
    "theme": {
     "2313f7a3-813f-4c2c-ab9a-f9f32895f7b7": {
      "backgrounds": {
       "dc7afa04-bf90-40b1-82a5-726e3cff5267": {
        "background-color": "31af15d2-7e15-44c5-ab5e-e04b16a89eff",
        "id": "dc7afa04-bf90-40b1-82a5-726e3cff5267"
       }
      },
      "id": "2313f7a3-813f-4c2c-ab9a-f9f32895f7b7",
      "palette": {
       "19cc588f-0593-49c9-9f4b-e4d7cc113b1c": {
        "id": "19cc588f-0593-49c9-9f4b-e4d7cc113b1c",
        "rgb": [
         252,
         252,
         252
        ]
       },
       "31af15d2-7e15-44c5-ab5e-e04b16a89eff": {
        "id": "31af15d2-7e15-44c5-ab5e-e04b16a89eff",
        "rgb": [
         68,
         68,
         68
        ]
       },
       "50f92c45-a630-455b-aec3-788680ec7410": {
        "id": "50f92c45-a630-455b-aec3-788680ec7410",
        "rgb": [
         197,
         226,
         245
        ]
       },
       "c5cc3653-2ee1-402a-aba2-7caae1da4f6c": {
        "id": "c5cc3653-2ee1-402a-aba2-7caae1da4f6c",
        "rgb": [
         43,
         126,
         184
        ]
       },
       "efa7f048-9acb-414c-8b04-a26811511a21": {
        "id": "efa7f048-9acb-414c-8b04-a26811511a21",
        "rgb": [
         25.118061674008803,
         73.60176211453744,
         107.4819383259912
        ]
       }
      },
      "rules": {
       "a": {
        "color": "19cc588f-0593-49c9-9f4b-e4d7cc113b1c"
       },
       "blockquote": {
        "color": "50f92c45-a630-455b-aec3-788680ec7410",
        "font-size": 3
       },
       "code": {
        "font-family": "Anonymous Pro"
       },
       "h1": {
        "color": "19cc588f-0593-49c9-9f4b-e4d7cc113b1c",
        "font-family": "Merriweather",
        "font-size": 8
       },
       "h2": {
        "color": "19cc588f-0593-49c9-9f4b-e4d7cc113b1c",
        "font-family": "Merriweather",
        "font-size": 6
       },
       "h3": {
        "color": "50f92c45-a630-455b-aec3-788680ec7410",
        "font-family": "Lato",
        "font-size": 5.5
       },
       "h4": {
        "color": "c5cc3653-2ee1-402a-aba2-7caae1da4f6c",
        "font-family": "Lato",
        "font-size": 5
       },
       "h5": {
        "font-family": "Lato"
       },
       "h6": {
        "font-family": "Lato"
       },
       "h7": {
        "font-family": "Lato"
       },
       "li": {
        "color": "50f92c45-a630-455b-aec3-788680ec7410",
        "font-size": 3.25
       },
       "pre": {
        "font-family": "Anonymous Pro",
        "font-size": 4
       }
      },
      "text-base": {
       "color": "19cc588f-0593-49c9-9f4b-e4d7cc113b1c",
       "font-family": "Lato",
       "font-size": 4
      }
     },
     "3313ac47-6884-4cd2-a7fb-837e50899e68": {
      "id": "3313ac47-6884-4cd2-a7fb-837e50899e68",
      "palette": {
       "19cc588f-0593-49c9-9f4b-e4d7cc113b1c": {
        "id": "19cc588f-0593-49c9-9f4b-e4d7cc113b1c",
        "rgb": [
         252,
         252,
         252
        ]
       },
       "31af15d2-7e15-44c5-ab5e-e04b16a89eff": {
        "id": "31af15d2-7e15-44c5-ab5e-e04b16a89eff",
        "rgb": [
         68,
         68,
         68
        ]
       },
       "50f92c45-a630-455b-aec3-788680ec7410": {
        "id": "50f92c45-a630-455b-aec3-788680ec7410",
        "rgb": [
         155,
         177,
         192
        ]
       },
       "c5cc3653-2ee1-402a-aba2-7caae1da4f6c": {
        "id": "c5cc3653-2ee1-402a-aba2-7caae1da4f6c",
        "rgb": [
         43,
         126,
         184
        ]
       },
       "efa7f048-9acb-414c-8b04-a26811511a21": {
        "id": "efa7f048-9acb-414c-8b04-a26811511a21",
        "rgb": [
         25.118061674008803,
         73.60176211453744,
         107.4819383259912
        ]
       }
      },
      "rules": {
       "blockquote": {
        "color": "50f92c45-a630-455b-aec3-788680ec7410"
       },
       "code": {
        "font-family": "Anonymous Pro"
       },
       "h1": {
        "color": "c5cc3653-2ee1-402a-aba2-7caae1da4f6c",
        "font-family": "Lato",
        "font-size": 8
       },
       "h2": {
        "color": "c5cc3653-2ee1-402a-aba2-7caae1da4f6c",
        "font-family": "Lato",
        "font-size": 6
       },
       "h3": {
        "color": "50f92c45-a630-455b-aec3-788680ec7410",
        "font-family": "Lato",
        "font-size": 5.5
       },
       "h4": {
        "color": "c5cc3653-2ee1-402a-aba2-7caae1da4f6c",
        "font-family": "Lato",
        "font-size": 5
       },
       "h5": {
        "font-family": "Lato"
       },
       "h6": {
        "font-family": "Lato"
       },
       "h7": {
        "font-family": "Lato"
       },
       "pre": {
        "font-family": "Anonymous Pro",
        "font-size": 4
       }
      },
      "text-base": {
       "font-family": "Merriweather",
       "font-size": 4
      }
     },
     "a403a081-d3f1-4689-976d-7e336b2e4d31": {
      "id": "a403a081-d3f1-4689-976d-7e336b2e4d31",
      "palette": {
       "19cc588f-0593-49c9-9f4b-e4d7cc113b1c": {
        "id": "19cc588f-0593-49c9-9f4b-e4d7cc113b1c",
        "rgb": [
         252,
         252,
         252
        ]
       },
       "31af15d2-7e15-44c5-ab5e-e04b16a89eff": {
        "id": "31af15d2-7e15-44c5-ab5e-e04b16a89eff",
        "rgb": [
         68,
         68,
         68
        ]
       },
       "50f92c45-a630-455b-aec3-788680ec7410": {
        "id": "50f92c45-a630-455b-aec3-788680ec7410",
        "rgb": [
         155,
         177,
         192
        ]
       },
       "c5cc3653-2ee1-402a-aba2-7caae1da4f6c": {
        "id": "c5cc3653-2ee1-402a-aba2-7caae1da4f6c",
        "rgb": [
         43,
         126,
         184
        ]
       },
       "efa7f048-9acb-414c-8b04-a26811511a21": {
        "id": "efa7f048-9acb-414c-8b04-a26811511a21",
        "rgb": [
         25.118061674008803,
         73.60176211453744,
         107.4819383259912
        ]
       }
      },
      "rules": {
       "blockquote": {
        "color": "50f92c45-a630-455b-aec3-788680ec7410"
       },
       "code": {
        "font-family": "Anonymous Pro"
       },
       "h1": {
        "color": "c5cc3653-2ee1-402a-aba2-7caae1da4f6c",
        "font-family": "Lato",
        "font-size": 8
       },
       "h2": {
        "color": "c5cc3653-2ee1-402a-aba2-7caae1da4f6c",
        "font-family": "Lato",
        "font-size": 6
       },
       "h3": {
        "color": "50f92c45-a630-455b-aec3-788680ec7410",
        "font-family": "Lato",
        "font-size": 5.5
       },
       "h4": {
        "color": "c5cc3653-2ee1-402a-aba2-7caae1da4f6c",
        "font-family": "Lato",
        "font-size": 5
       },
       "h5": {
        "font-family": "Lato"
       },
       "h6": {
        "font-family": "Lato"
       },
       "h7": {
        "font-family": "Lato"
       },
       "pre": {
        "font-family": "Anonymous Pro",
        "font-size": 4
       }
      },
      "text-base": {
       "font-family": "Merriweather",
       "font-size": 4
      }
     }
    }
   }
  }
 },
 "nbformat": 4,
 "nbformat_minor": 1
}
